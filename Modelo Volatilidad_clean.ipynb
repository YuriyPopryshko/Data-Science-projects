{
 "cells": [
  {
   "cell_type": "code",
   "execution_count": 1,
   "id": "a4f0c0ba",
   "metadata": {},
   "outputs": [
    {
     "name": "stderr",
     "output_type": "stream",
     "text": [
      "C:\\Users\\Yuriy Popryshko\\AppData\\Roaming\\Python\\Python39\\site-packages\\matplotlib\\projections\\__init__.py:63: UserWarning: Unable to import Axes3D. This may be due to multiple versions of Matplotlib being installed (e.g. as a system package and as a pip package). As a result, the 3D projection is not available.\n",
      "  warnings.warn(\"Unable to import Axes3D. This may be due to multiple versions of \"\n"
     ]
    }
   ],
   "source": [
    "import yfinance as yf\n",
    "import pandas as pd\n",
    "from IPython.display import display\n",
    "import ipywidgets as widgets\n",
    "from sklearn.impute import SimpleImputer\n",
    "from sklearn.model_selection import train_test_split\n",
    "from sklearn.tree import DecisionTreeClassifier\n",
    "from sklearn.metrics import accuracy_score, classification_report\n",
    "from sklearn.preprocessing import LabelEncoder\n",
    "from sklearn.feature_selection import SelectFromModel\n",
    "from sklearn.preprocessing import OneHotEncoder\n",
    "from sklearn.ensemble import RandomForestClassifier\n",
    "from sklearn.cluster import KMeans\n",
    "from sklearn.metrics import mean_squared_error\n",
    "from sklearn.cluster import AgglomerativeClustering\n",
    "from sklearn.cluster import DBSCAN\n",
    "from sklearn.ensemble import RandomForestRegressor\n",
    "from sklearn.model_selection import GridSearchCV\n",
    "import matplotlib.pyplot as plt\n",
    "from contextlib import contextmanager\n",
    "import io\n",
    "import sys"
   ]
  },
  {
   "cell_type": "code",
   "execution_count": 2,
   "id": "4cd0d948",
   "metadata": {},
   "outputs": [],
   "source": [
    "symbol_data = pd.read_csv('constituents.csv')\n"
   ]
  },
  {
   "cell_type": "code",
   "execution_count": 3,
   "id": "93cbb74b",
   "metadata": {},
   "outputs": [],
   "source": [
    "symbols = symbol_data['Symbol']\n"
   ]
  },
  {
   "cell_type": "code",
   "execution_count": 4,
   "id": "79f0e5b1",
   "metadata": {},
   "outputs": [],
   "source": [
    "volatility_data = []\n"
   ]
  },
  {
   "cell_type": "code",
   "execution_count": 5,
   "id": "a89b2f1e",
   "metadata": {
    "scrolled": true
   },
   "outputs": [
    {
     "name": "stderr",
     "output_type": "stream",
     "text": [
      "\n",
      "1 Failed download:\n",
      "['BRK.B']: Exception('%ticker%: No timezone found, symbol may be delisted')\n",
      "\n",
      "1 Failed download:\n",
      "['BF.B']: Exception('%ticker%: No price data found, symbol may be delisted (1d 2023-01-01 -> 2023-12-27)')\n"
     ]
    }
   ],
   "source": [
    "# Redirigir la salida estándar a un archivo\n",
    "\n",
    "yf.pdr_override()\n",
    "\n",
    "for symbol in symbols:\n",
    "    try:\n",
    "        \n",
    "        data = yf.download(symbol, start='2023-01-01', end='2023-12-27', progress=False)['Adj Close']\n",
    "        daily_returns = data.pct_change().dropna()\n",
    "        volatility = daily_returns.std()\n",
    "        volatility_data.append({'Symbol': symbol, 'Volatility': volatility})\n",
    "    except Exception as e:\n",
    "        print(f\"No se pudo obtener datos para {symbol}: {e}\")"
   ]
  },
  {
   "cell_type": "code",
   "execution_count": 6,
   "id": "50f0e19a",
   "metadata": {},
   "outputs": [],
   "source": [
    "volatility_df = pd.DataFrame(volatility_data)"
   ]
  },
  {
   "cell_type": "code",
   "execution_count": 7,
   "id": "53d596f1",
   "metadata": {},
   "outputs": [],
   "source": [
    "financial_data = []\n",
    "\n",
    "for symbol in symbol_data['Symbol']:\n",
    "    try:\n",
    "        empresa = yf.Ticker(symbol)\n",
    "        datos_empresa = empresa.info\n",
    "        # Añadir el símbolo de la empresa como una columna en los datos financieros\n",
    "        datos_empresa['Symbol'] = symbol\n",
    "        financial_data.append(datos_empresa)\n",
    "    except Exception as e:\n",
    "        print(f\"No se pudieron obtener datos para {symbol}: {e}\")"
   ]
  },
  {
   "cell_type": "code",
   "execution_count": 8,
   "id": "75744a67",
   "metadata": {},
   "outputs": [],
   "source": [
    "financial_df = pd.DataFrame(financial_data)\n"
   ]
  },
  {
   "cell_type": "code",
   "execution_count": 9,
   "id": "ecabd653",
   "metadata": {},
   "outputs": [],
   "source": [
    "merged_data = pd.merge(financial_df, volatility_df, on='Symbol', how='inner')"
   ]
  },
  {
   "cell_type": "code",
   "execution_count": 10,
   "id": "b6515bab",
   "metadata": {
    "scrolled": true
   },
   "outputs": [],
   "source": [
    "volatility_df.to_csv('volatilidad.csv',index=False)\n",
    "financial_df.to_csv('financial.csv',index=False)\n",
    "merged_data.to_csv('pre_limpieza.csv',index=False)"
   ]
  },
  {
   "cell_type": "markdown",
   "id": "09429c53",
   "metadata": {},
   "source": [
    "## Vamos a dividir en bloques las columans para hacer la limpieza y pasar todo a numerico"
   ]
  },
  {
   "cell_type": "code",
   "execution_count": 11,
   "id": "a615f2df",
   "metadata": {},
   "outputs": [],
   "source": [
    "#SOLO CORRER SI SE CIERRA EL NOTEBOOK Y SE TRABAJA MÁS TARDE\n",
    "merged_data = pd.read_csv('pre_limpieza.csv')"
   ]
  },
  {
   "cell_type": "code",
   "execution_count": 12,
   "id": "f6f6e1b5",
   "metadata": {},
   "outputs": [],
   "source": [
    "merged_data.dropna(subset=['Volatility'], inplace=True)"
   ]
  },
  {
   "cell_type": "code",
   "execution_count": 13,
   "id": "261dac6e",
   "metadata": {},
   "outputs": [],
   "source": [
    "all_columns = merged_data.columns.tolist()"
   ]
  },
  {
   "cell_type": "code",
   "execution_count": 14,
   "id": "b74e2ebb",
   "metadata": {},
   "outputs": [],
   "source": [
    "# Tamaño del bloque para dividir las columnas\n",
    "block_size = 10  # Puedes ajustar este valor según tus necesidades"
   ]
  },
  {
   "cell_type": "code",
   "execution_count": 15,
   "id": "dda894a7",
   "metadata": {},
   "outputs": [],
   "source": [
    "column_blocks = [all_columns[i:i+block_size] for i in range(0, len(all_columns), block_size)]"
   ]
  },
  {
   "cell_type": "code",
   "execution_count": 16,
   "id": "0d9bb0cc",
   "metadata": {},
   "outputs": [
    {
     "name": "stdout",
     "output_type": "stream",
     "text": [
      "Bloque 0: Columnas desde 'address1' hasta 'industryDisp'\n",
      "Bloque 1: Columnas desde 'sector' hasta 'shareHolderRightsRisk'\n",
      "Bloque 2: Columnas desde 'overallRisk' hasta 'regularMarketPreviousClose'\n",
      "Bloque 3: Columnas desde 'regularMarketOpen' hasta 'forwardPE'\n",
      "Bloque 4: Columnas desde 'volume' hasta 'marketCap'\n",
      "Bloque 5: Columnas desde 'fiftyTwoWeekLow' hasta 'profitMargins'\n",
      "Bloque 6: Columnas desde 'floatShares' hasta 'shortRatio'\n",
      "Bloque 7: Columnas desde 'shortPercentOfFloat' hasta 'forwardEps'\n",
      "Bloque 8: Columnas desde 'lastSplitFactor' hasta 'quoteType'\n",
      "Bloque 9: Columnas desde 'symbol' hasta 'gmtOffSetMilliseconds'\n",
      "Bloque 10: Columnas desde 'currentPrice' hasta 'debtToEquity'\n",
      "Bloque 11: Columnas desde 'revenuePerShare' hasta 'operatingMargins'\n",
      "Bloque 12: Columnas desde 'financialCurrency' hasta 'targetMeanPrice'\n",
      "Bloque 13: Columnas desde 'targetMedianPrice' hasta 'Volatility'\n"
     ]
    }
   ],
   "source": [
    "for i, block in enumerate(column_blocks):\n",
    "    print(f\"Bloque {i}: Columnas desde '{block[0]}' hasta '{block[-1]}'\")"
   ]
  },
  {
   "cell_type": "code",
   "execution_count": 17,
   "id": "d8630fde",
   "metadata": {},
   "outputs": [
    {
     "name": "stdout",
     "output_type": "stream",
     "text": [
      "Ingrese el número del bloque que desea revisar (0-13): 2\n",
      "Seleccionaste el bloque 2.\n",
      "Columnas en el bloque seleccionado:\n",
      "['overallRisk', 'governanceEpochDate', 'compensationAsOfEpochDate', 'maxAge', 'priceHint', 'previousClose', 'open', 'dayLow', 'dayHigh', 'regularMarketPreviousClose']\n"
     ]
    }
   ],
   "source": [
    "# Solicitar al usuario que elija un bloque para revisar manualmente\n",
    "while True:\n",
    "    try:\n",
    "        seleccion = int(input(\"Ingrese el número del bloque que desea revisar (0-13): \"))\n",
    "        if 0 <= seleccion < len(column_blocks):\n",
    "            print(f\"Seleccionaste el bloque {seleccion}.\")\n",
    "            # Muestra las columnas del bloque seleccionado para revisión manual\n",
    "            print(\"Columnas en el bloque seleccionado:\")\n",
    "            print(column_blocks[seleccion])\n",
    "            break\n",
    "        else:\n",
    "            print(\"Por favor, ingresa un número válido dentro del rango.\")\n",
    "    except ValueError:\n",
    "        print(\"Ingresa un número válido.\")"
   ]
  },
  {
   "cell_type": "code",
   "execution_count": 18,
   "id": "243e8325",
   "metadata": {},
   "outputs": [],
   "source": [
    "grupos_dataframes = []"
   ]
  },
  {
   "cell_type": "code",
   "execution_count": 19,
   "id": "545151d2",
   "metadata": {},
   "outputs": [],
   "source": [
    "for block in column_blocks:\n",
    "    # Crear un nuevo DataFrame sin la columna 'symbol'\n",
    "    grupo_df = merged_data[block].copy()  # Crear DataFrame con las columnas del bloque\n",
    "    \n",
    "    # Agregar este DataFrame a la lista de grupos\n",
    "    grupos_dataframes.append(grupo_df)"
   ]
  },
  {
   "cell_type": "markdown",
   "id": "89e7efcc",
   "metadata": {},
   "source": [
    "## Limpieza aplicada directamente al DF inicial"
   ]
  },
  {
   "cell_type": "code",
   "execution_count": 20,
   "id": "1641fa31",
   "metadata": {},
   "outputs": [],
   "source": [
    "columnas_a_eliminar = ['address1', 'website','longBusinessSummary', 'phone','zip', 'companyOfficers'\n",
    "                       , 'lastSplitFactor', 'lastSplitDate', 'underlyingSymbol','shortName','longName','timeZoneFullName'\n",
    "                       ,'uuid',\n",
    "                       'gmtOffSetMilliseconds', 'timeZoneShortName','firstTradeDateEpochUtc', 'recommendationKey'\n",
    "                       , 'financialCurrency','Symbol','address2', 'industrySymbol','fax']\n",
    "\n",
    "Pen_Merged = merged_data.drop(columns=columnas_a_eliminar)"
   ]
  },
  {
   "cell_type": "code",
   "execution_count": 21,
   "id": "0756e72d",
   "metadata": {},
   "outputs": [],
   "source": [
    "listado_rellenar = ['dividendRate', 'dividendYield', 'fiveYearAvgDividendYield', 'exDividendDate'\n",
    "                    ]\n",
    "\n",
    "Pen_Merged[listado_rellenar] = Pen_Merged[listado_rellenar].fillna(0)"
   ]
  },
  {
   "cell_type": "code",
   "execution_count": 22,
   "id": "b2f77e4e",
   "metadata": {},
   "outputs": [],
   "source": [
    "Pen_Merged['state'].fillna(Pen_Merged['city'], inplace=True)"
   ]
  },
  {
   "cell_type": "code",
   "execution_count": 23,
   "id": "409b4646",
   "metadata": {},
   "outputs": [],
   "source": [
    "Pen_Merged['fullTimeEmployees'].fillna(Pen_Merged.groupby(['city', 'state', 'sector'])['fullTimeEmployees'].transform('median'), \n",
    "                                     inplace=True)"
   ]
  },
  {
   "cell_type": "code",
   "execution_count": 24,
   "id": "10e4d8b8",
   "metadata": {},
   "outputs": [],
   "source": [
    "Pen_Merged['forwardPE'].fillna(Pen_Merged.groupby(['city', 'state', 'sector'])['forwardPE'].transform('median'), \n",
    "                                     inplace=True)"
   ]
  },
  {
   "cell_type": "code",
   "execution_count": 25,
   "id": "0013313e",
   "metadata": {},
   "outputs": [],
   "source": [
    "columnas_categoricas = Pen_Merged.select_dtypes(include=['object']).columns.tolist()\n",
    "# Aplicar codificación de frecuencia a cada columna categórica\n",
    "for columna in columnas_categoricas:\n",
    "    frecuencia = Pen_Merged[columna].value_counts()\n",
    "    Pen_Merged[columna + '_codificada'] = Pen_Merged[columna].map(frecuencia)\n",
    "    \n",
    "Pen_Merged = Pen_Merged.drop(columns=columnas_categoricas)"
   ]
  },
  {
   "cell_type": "code",
   "execution_count": 26,
   "id": "fe2b665d",
   "metadata": {},
   "outputs": [],
   "source": [
    "medianas_por_columna = Pen_Merged.median()\n",
    "Pen_Merged.fillna(medianas_por_columna, inplace=True)"
   ]
  },
  {
   "cell_type": "code",
   "execution_count": 27,
   "id": "6360f7a3",
   "metadata": {},
   "outputs": [],
   "source": [
    "columna_extraida_symbol = Pen_Merged['symbol_codificada']\n",
    "Pen_Merged = Pen_Merged.drop(columns=['symbol_codificada'])"
   ]
  },
  {
   "cell_type": "code",
   "execution_count": 28,
   "id": "62a1482e",
   "metadata": {},
   "outputs": [],
   "source": [
    "copia_Seg = Pen_Merged"
   ]
  },
  {
   "cell_type": "markdown",
   "id": "1d8893f7",
   "metadata": {},
   "source": [
    "## Prueba modelo "
   ]
  },
  {
   "cell_type": "code",
   "execution_count": 29,
   "id": "4f4ba3dc",
   "metadata": {},
   "outputs": [
    {
     "name": "stdout",
     "output_type": "stream",
     "text": [
      "Mejores hiperparámetros: {'max_depth': None, 'min_samples_split': 5, 'n_estimators': 300}\n",
      "RMSE con mejores hiperparámetros: 0.003336443293168046\n"
     ]
    },
    {
     "data": {
      "image/png": "[encoded data removed]",
      "text/plain": [
       "<Figure size 1000x600 with 1 Axes>"
      ]
     },
     "metadata": {},
     "output_type": "display_data"
    }
   ],
   "source": [
    "# Definir características (features) y columna objetivo (target)\n",
    "features = Pen_Merged.drop(columns=['Volatility'])\n",
    "target = Pen_Merged['Volatility']\n",
    "\n",
    "# Dividir datos en conjunto de entrenamiento y prueba\n",
    "X_train, X_test, y_train, y_test = train_test_split(features, target, test_size=0.2, random_state=42)\n",
    "\n",
    "# Definir el espacio de búsqueda de hiperparámetros\n",
    "param_grid = {\n",
    "    'n_estimators': [100, 200, 300],\n",
    "    'max_depth': [None, 10, 20],\n",
    "    'min_samples_split': [2, 5, 10]\n",
    "}\n",
    "\n",
    "# Inicializar RandomForestRegressor\n",
    "rf = RandomForestRegressor(random_state=42)\n",
    "\n",
    "# Configurar búsqueda en cuadrícula con validación cruzada\n",
    "grid_search = GridSearchCV(estimator=rf, param_grid=param_grid, cv=5, scoring='neg_root_mean_squared_error')\n",
    "grid_search.fit(X_train, y_train)\n",
    "\n",
    "# Mejores hiperparámetros encontrados por la búsqueda en cuadrícula\n",
    "best_params = grid_search.best_params_\n",
    "print(\"Mejores hiperparámetros:\", best_params)\n",
    "\n",
    "# Mejor modelo encontrado por la búsqueda en cuadrícula\n",
    "best_model = grid_search.best_estimator_\n",
    "\n",
    "# Predecir volatilidad en el conjunto de prueba con el mejor modelo\n",
    "predictions = best_model.predict(X_test)\n",
    "\n",
    "# Calcular RMSE del mejor modelo\n",
    "rmse = mean_squared_error(y_test, predictions, squared=False)\n",
    "print(f\"RMSE con mejores hiperparámetros: {rmse}\")\n",
    "\n",
    "# Análisis de importancia de características\n",
    "feature_importance = best_model.feature_importances_\n",
    "sorted_indices = feature_importance.argsort()[::-1]\n",
    "top_features = sorted_indices[:10]  # Las 10 características más importantes\n",
    "\n",
    "# Gráfico de importancia de características\n",
    "plt.figure(figsize=(10, 6))\n",
    "plt.title('Importancia de características (Top 10)')\n",
    "plt.barh(range(10), feature_importance[top_features], align='center')\n",
    "plt.yticks(range(10), X_train.columns[top_features])\n",
    "plt.xlabel('Importancia relativa')\n",
    "plt.show()"
   ]
  },
  {
   "cell_type": "code",
   "execution_count": 30,
   "id": "3a67bef0",
   "metadata": {},
   "outputs": [],
   "source": [
    "predictions = best_model.predict(X_test)"
   ]
  },
  {
   "cell_type": "code",
   "execution_count": 31,
   "id": "2808ce09",
   "metadata": {},
   "outputs": [],
   "source": [
    "# Agregar predicciones como columna al conjunto de prueba\n",
    "X_test_with_predictions = X_test.copy()  # Copia del conjunto de prueba\n",
    "X_test_with_predictions['Prediccion_Volatilidad'] = predictions  # Agregar columna de predicciones"
   ]
  },
  {
   "cell_type": "code",
   "execution_count": 32,
   "id": "43c7860e",
   "metadata": {},
   "outputs": [],
   "source": [
    "nuevo_df = X_test_with_predictions[['Prediccion_Volatilidad']].copy()  # Copia la columna de 'X_test_with_predictions'\n",
    "\n",
    "nuevo_df = nuevo_df.merge(copia_Seg[['Volatility']], left_index=True, right_index=True)"
   ]
  },
  {
   "cell_type": "code",
   "execution_count": 33,
   "id": "a84f6922",
   "metadata": {},
   "outputs": [],
   "source": [
    "diferencia_df = pd.DataFrame()\n",
    "diferencia_df['Diferencia_Volatilidad'] = nuevo_df['Volatility'] - nuevo_df['Prediccion_Volatilidad'] "
   ]
  },
  {
   "cell_type": "code",
   "execution_count": 34,
   "id": "aa96ca1a",
   "metadata": {},
   "outputs": [
    {
     "data": {
      "text/html": [
       "<div>\n",
       "<style scoped>\n",
       "    .dataframe tbody tr th:only-of-type {\n",
       "        vertical-align: middle;\n",
       "    }\n",
       "\n",
       "    .dataframe tbody tr th {\n",
       "        vertical-align: top;\n",
       "    }\n",
       "\n",
       "    .dataframe thead th {\n",
       "        text-align: right;\n",
       "    }\n",
       "</style>\n",
       "<table border=\"1\" class=\"dataframe\">\n",
       "  <thead>\n",
       "    <tr style=\"text-align: right;\">\n",
       "      <th></th>\n",
       "      <th>Diferencia_Volatilidad</th>\n",
       "    </tr>\n",
       "  </thead>\n",
       "  <tbody>\n",
       "    <tr>\n",
       "      <th>count</th>\n",
       "      <td>101.000000</td>\n",
       "    </tr>\n",
       "    <tr>\n",
       "      <th>mean</th>\n",
       "      <td>0.000448</td>\n",
       "    </tr>\n",
       "    <tr>\n",
       "      <th>std</th>\n",
       "      <td>0.003323</td>\n",
       "    </tr>\n",
       "    <tr>\n",
       "      <th>min</th>\n",
       "      <td>-0.006212</td>\n",
       "    </tr>\n",
       "    <tr>\n",
       "      <th>25%</th>\n",
       "      <td>-0.001521</td>\n",
       "    </tr>\n",
       "    <tr>\n",
       "      <th>50%</th>\n",
       "      <td>-0.000237</td>\n",
       "    </tr>\n",
       "    <tr>\n",
       "      <th>75%</th>\n",
       "      <td>0.002198</td>\n",
       "    </tr>\n",
       "    <tr>\n",
       "      <th>max</th>\n",
       "      <td>0.010806</td>\n",
       "    </tr>\n",
       "  </tbody>\n",
       "</table>\n",
       "</div>"
      ],
      "text/plain": [
       "       Diferencia_Volatilidad\n",
       "count              101.000000\n",
       "mean                 0.000448\n",
       "std                  0.003323\n",
       "min                 -0.006212\n",
       "25%                 -0.001521\n",
       "50%                 -0.000237\n",
       "75%                  0.002198\n",
       "max                  0.010806"
      ]
     },
     "execution_count": 34,
     "metadata": {},
     "output_type": "execute_result"
    }
   ],
   "source": [
    "diferencia_df.describe()"
   ]
  }
 ],
 "metadata": {
  "kernelspec": {
   "display_name": "Python 3 (ipykernel)",
   "language": "python",
   "name": "python3"
  },
  "language_info": {
   "codemirror_mode": {
    "name": "ipython",
    "version": 3
   },
   "file_extension": ".py",
   "mimetype": "text/x-python",
   "name": "python",
   "nbconvert_exporter": "python",
   "pygments_lexer": "ipython3",
   "version": "3.9.13"
  }
 },
 "nbformat": 4,
 "nbformat_minor": 5
}
