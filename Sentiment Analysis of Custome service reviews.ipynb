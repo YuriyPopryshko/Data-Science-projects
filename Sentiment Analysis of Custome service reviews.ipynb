{
 "cells": [
  {
   "cell_type": "markdown",
   "id": "3be0a21e",
   "metadata": {
    "id": "3be0a21e"
   },
   "source": [
    "# TFM: Naturgy Sentiment Analysis"
   ]
  },
  {
   "cell_type": "markdown",
   "id": "wgEktIoiLN3V",
   "metadata": {
    "id": "wgEktIoiLN3V"
   },
   "source": [
    "In this project, we utilized a Python virtual environment to maintain an isolated and controlled setting for the dependencies and packages used. This allowed us to work while avoiding conflicts between package versions and libraries."
   ]
  },
  {
   "cell_type": "markdown",
   "id": "bd5348b7",
   "metadata": {
    "id": "bd5348b7"
   },
   "source": [
    "##  **1. Libraries**\n",
    "\n",
    "Libraries for data analysis, numerical computation, file manipulation, and task progress tracking.\n",
    "\n",
    "\n"
   ]
  },
  {
   "cell_type": "markdown",
   "id": "RvdUk6lZ5cRs",
   "metadata": {
    "id": "RvdUk6lZ5cRs"
   },
   "source": [
    "In this initial section of the work, a series of preparations and essential configurations were carried out to perform sentiment analysis on Naturgy-related data. Below is a detailed description of the actions taken:"
   ]
  },
  {
   "cell_type": "markdown",
   "id": "B5-kGlI95hpo",
   "metadata": {
    "id": "B5-kGlI95hpo"
   },
   "source": [
    "### Importing Libraries and Functions\n",
    "\n",
    "For sentiment analysis, various libraries and key functions were imported. These libraries included tools for text processing, data analysis, training machine learning models, and visualization of results. Among the important libraries are Pandas, NumPy, Matplotlib, Scikit-Learn, and TensorFlow.\n",
    "  \n",
    "* pandas: Data analysis library\n",
    "* numpy: Library for numerical and scientific computation\n",
    "* tensorflow: Platform for building and training machine learning models\n",
    "* sklearn: Library for machine learning in Python. NearestNeighbors is an algorithm for nearest neighbor search, and train_test_split is used to split the data.\n",
    "* pickle: Module for serialization and deserialization of Python objects.\n",
    "* matplotlib: Library for data visualization in Python. pyplot is the module for creating graphs and images.\n",
    "* tqdm: Library for adding progress bars to iterations.\n",
    "* sentence_transformers: A framework for state-of-the-art sentence, text, and image embedding.\n",
    "* SciPy: A Python library for mathematics, science, and engineering that provides modules for optimization, linear algebra, integration, interpolation, and other scientific and engineering tasks.\n",
    "* re: A Python module allowing text search and manipulation using regular expressions.\n",
    "* tpot: An open-source Python library that utilizes genetic programming to automate the process of finding the best machine learning pipelines for a given dataset.\n",
    "* unicodedata: A Python module that provides functions for working with Unicode characters, such as normalization and obtaining character properties.\n",
    "* nltk: A natural language processing (NLP) library in Python that offers tools and resources for tasks like tokenization, syntactic analysis, and text processing in natural language.\n",
    "* emoji: A Python library providing a set of functions for working with emojis, including searching and manipulating emojis in text strings.\n",
    "* os: Allows access to operating system-dependent functionalities.\n",
    "* time: A module in Python that provides functions for working with time and the system clock, such as time measurement, pausing program execution, and managing timestamps.\n",
    "\n",
    "\n",
    "\n",
    "\n",
    "\n",
    "\n",
    "\n",
    "\n",
    "\n",
    "\n",
    "\n",
    "\n",
    "\n",
    "\n",
    "\n"
   ]
  },
  {
   "cell_type": "code",
   "execution_count": null,
   "id": "07924d88",
   "metadata": {
    "id": "07924d88"
   },
   "outputs": [],
   "source": [
    "from tqdm import tqdm\n",
    "import pickle\n",
    "import gzip\n",
    "import pandas as pd\n",
    "import numpy as np\n",
    "import matplotlib.pyplot as plt\n",
    "import scipy as sp\n",
    "from sklearn.metrics import accuracy_score, f1_score, classification_report\n",
    "from sklearn.ensemble import RandomForestClassifier\n",
    "from sklearn.model_selection import train_test_split\n",
    "from sklearn.feature_extraction.text import CountVectorizer\n",
    "from sklearn.preprocessing import LabelEncoder, StandardScaler\n",
    "from sklearn.feature_extraction.text import TfidfVectorizer\n",
    "from sklearn.cluster import KMeans\n",
    "import tensorflow as tf\n",
    "from tensorflow import keras\n",
    "from tensorflow.keras import layers, backend as K\n",
    "from tensorflow.keras.losses import CategoricalCrossentropy\n",
    "from tensorflow.keras.callbacks import EarlyStopping\n",
    "from sklearn.utils import class_weight\n",
    "import tensorflow_hub as hub\n",
    "import tensorflow_text as text\n",
    "from sentence_transformers import SentenceTransformer, CrossEncoder, util\n",
    "from sentence_transformers.util import community_detection\n",
    "from tpot import TPOTClassifier\n",
    "import re\n",
    "import unicodedata\n",
    "import nltk\n",
    "from nltk.corpus import stopwords\n",
    "import emoji\n",
    "import os\n",
    "import win32api, win32con\n",
    "import time"
   ]
  },
  {
   "cell_type": "markdown",
   "id": "7LtVIekM5zhH",
   "metadata": {
    "id": "7LtVIekM5zhH"
   },
   "source": [
    "### Stopwords Configuration and Variables\n",
    "\n",
    "\n",
    "A list of Spanish stopwords was configured using the Natural Language Toolkit (NLTK) library to enhance the quality of text analysis. Stopwords refer to common words that are often removed during text processing as they do not contribute significant information. Additionally, useful variables were defined, such as the target directory for saving files."
   ]
  },
  {
   "cell_type": "code",
   "execution_count": null,
   "id": "9ff374e9",
   "metadata": {
    "id": "9ff374e9",
    "outputId": "52510d70-2843-4728-c667-a97aefdd3dd9"
   },
   "outputs": [
    {
     "name": "stderr",
     "output_type": "stream",
     "text": [
      "[nltk_data] Downloading package stopwords to C:\\Users\\Yuriy\n",
      "[nltk_data]     Popryshko\\AppData\\Roaming\\nltk_data...\n",
      "[nltk_data]   Package stopwords is already up-to-date!\n"
     ]
    }
   ],
   "source": [
    "# stopwords\n",
    "nltk.download('stopwords')\n",
    "stop_words = set(word for word in stopwords.words('spanish') if not word.startswith('n'))"
   ]
  },
  {
   "cell_type": "code",
   "execution_count": null,
   "id": "1eaa5b1c",
   "metadata": {
    "id": "1eaa5b1c"
   },
   "outputs": [],
   "source": [
    "# dirección por defecto:\n",
    "direction = f\"C:\\\\Users\\\\{os.getenv('username')}\\\\Downloads\\\\\""
   ]
  },
  {
   "cell_type": "markdown",
   "id": "KEu4o8bO6EII",
   "metadata": {
    "id": "KEu4o8bO6EII"
   },
   "source": [
    "##### **Definition of Dictionaries**\n",
    "\n",
    "Dictionaries were created to associate numbers with relevant labels. For instance, the \"pred_dict\" dictionary established relationships between numerical values and sentiment labels, such as \"NEGATIVE\" or \"POSITIVE.\" This facilitated the interpretation of sentiment analysis results. Additionally, dictionaries were crafted to translate names of days, seasons, and months into Spanish. These dictionaries aimed to assist in mapping and understanding various temporal references within the data."
   ]
  },
  {
   "cell_type": "code",
   "execution_count": null,
   "id": "8f7cb67f",
   "metadata": {
    "id": "8f7cb67f"
   },
   "outputs": [],
   "source": [
    "pred_dict = {\n",
    "    0: \"MIXED\",\n",
    "    1: \"NEGATIVE\",\n",
    "    2: \"NEUTRAL\",\n",
    "    3: \"POSITIVE\"\n",
    "}\n",
    "\n",
    "cluster_dic = {\n",
    "    0: \"negative\",\n",
    "    1: \"mixed - positive\",\n",
    "    2: \"positive\",\n",
    "    3: \"mixed - negative\"\n",
    "}\n",
    "\n",
    "days_in_spanish = {\n",
    "    'Monday': 'Lunes',\n",
    "    'Tuesday': 'Martes',\n",
    "    'Wednesday': 'Miércoles',\n",
    "    'Thursday': 'Jueves',\n",
    "    'Friday': 'Viernes',\n",
    "    'Saturday': 'Sábado',\n",
    "    'Sunday': 'Domingo'\n",
    "}\n",
    "\n",
    "\n",
    "seasons_in_spanish = {\n",
    "    1: 'invierno',\n",
    "    2: 'primavera',\n",
    "    3: 'verano',\n",
    "    4: 'otoño'\n",
    "}\n",
    "\n",
    "months_in_spanish = {\n",
    "    1: 'enero',\n",
    "    2: 'febrero',\n",
    "    3: 'marzo',\n",
    "    4: 'abril',\n",
    "    5: 'mayo',\n",
    "    6: 'junio',\n",
    "    7: 'julio',\n",
    "    8: 'agosto',\n",
    "    9: 'septiembre',\n",
    "    10: 'octubre',\n",
    "    11: 'noviembre',\n",
    "    12: 'diciembre'\n",
    "}"
   ]
  },
  {
   "cell_type": "markdown",
   "id": "m6zxGqLA6Pgq",
   "metadata": {
    "id": "m6zxGqLA6Pgq"
   },
   "source": [
    "##### **Custom Functions**\n",
    "\n",
    "A personalized function named \"plot_train_val\" was defined with the aim of automating the generation of graphs that display loss during the training of deep learning models. Additionally, a function called \"clean_comments\" was created specifically to handle text cleaning within Naturgy's comments. This cleaning process involved removing special characters, converting text to lowercase, excluding stopwords, and performing other essential text cleaning tasks to prepare comments for sentiment analysis. These functions were designed to streamline and standardize specific tasks within the analysis pipeline."
   ]
  },
  {
   "cell_type": "code",
   "execution_count": null,
   "id": "acf78177",
   "metadata": {
    "id": "acf78177"
   },
   "outputs": [],
   "source": [
    "# gráfico train-validation para NN\n",
    "def plot_train_val(history, lim1, lim2):\n",
    "    plt.figure(figsize=(10, 6))\n",
    "    plt.plot(history.history['loss'])\n",
    "    plt.plot(history.history['val_loss'])\n",
    "    plt.ylim(lim1, lim2)\n",
    "    plt.title('Model loss')\n",
    "    plt.ylabel('Loss')\n",
    "    plt.xlabel('Epoch')\n",
    "    plt.legend(['Train', 'Validation'], loc='upper right')\n",
    "    plt.show()"
   ]
  },
  {
   "cell_type": "code",
   "execution_count": null,
   "id": "f2b89ce9",
   "metadata": {
    "id": "f2b89ce9"
   },
   "outputs": [],
   "source": [
    "# función para limpieza de comentarios\n",
    "def clean_comments(text, excl=True):\n",
    "\n",
    "    # Task 1: Define a new column to indicate if comment has exclamations or question marks\n",
    "    if excl:\n",
    "        has_exclamation_or_question = any(c in text for c in ('!', '¿', '?'))\n",
    "\n",
    "    # Task 2: Convert all tokens to lowercase\n",
    "    text = text.lower()\n",
    "\n",
    "    # Task 3: convertir emojis en definición suya (necesario antes de quitar caracteres extraños)\n",
    "    text = emoji.demojize(text, language='es')\n",
    "\n",
    "    # Task 4: Convert tokens to Unicode, excluding those with 'ñ'\n",
    "    text = ''.join(c if c == 'ñ' or ord(c) < 128 else unicodedata.normalize('NFKD', c)[0] for c in text)\n",
    "\n",
    "    # Task 5: Replace tokens including 'http' with 'http'\n",
    "    text = re.sub(r'\\bhttp\\S+', 'http', text)\n",
    "\n",
    "    # Task 6: Substitute non-alphabetical characters with a space\n",
    "    text = re.sub(r'[^a-zA-Zñ]', ' ', text)\n",
    "\n",
    "    # Task 7: Replace double spaces with single spaces\n",
    "    text = re.sub(r'\\s+', ' ', text)\n",
    "\n",
    "    # Task 8: Eliminate stopwords except those starting with 'n'and tokens with len == 1\n",
    "    words = text.split()\n",
    "    filtered_words = [word for word in words if word not in stop_words and len(word) > 1]\n",
    "    text = ' '.join(filtered_words)\n",
    "\n",
    "    if excl:\n",
    "        return text, has_exclamation_or_question\n",
    "    else:\n",
    "        return text"
   ]
  },
  {
   "cell_type": "markdown",
   "id": "ihxIWiU26c60",
   "metadata": {
    "id": "ihxIWiU26c60"
   },
   "source": [
    "##### **Data Reading**\n",
    "\n",
    "An attempt was made to read data from a Parquet file using the Pandas library. These data were associated with Naturgy and were crucial for sentiment analysis. In the event of encountering any issues while reading the Parquet file, an appropriate error message would be displayed to address the problem. This approach aimed to ensure the successful retrieval of essential data for the sentiment analysis process and handle any potential errors that might arise during the reading operation."
   ]
  },
  {
   "cell_type": "code",
   "execution_count": null,
   "id": "4dbc5d25",
   "metadata": {
    "id": "4dbc5d25"
   },
   "outputs": [],
   "source": [
    "try:\n",
    "    df = pd.read_parquet(\"naturgy_tfm.parquet\", engine ='pyarrow')\n",
    "except:\n",
    "    win32api.MessageBox(0, \"Something went wrong reading the parquet file\", \"Reading Parquet...\", win32con.MB_OK)"
   ]
  },
  {
   "cell_type": "markdown",
   "id": "c1PbKH9g6jjA",
   "metadata": {
    "id": "c1PbKH9g6jjA"
   },
   "source": [
    "In summary, this initial section aimed to establish a robust foundation for sentiment analysis within Naturgy's data. The actions performed included setting up the development environment, importing key libraries, configuring essential variables, creating custom functions, and reading the necessary data. These preparations are crucial for conducting effective analysis in subsequent sections."
   ]
  },
  {
   "cell_type": "markdown",
   "id": "ea6c26e8",
   "metadata": {
    "id": "ea6c26e8"
   },
   "source": [
    "## **2. Cleaning**"
   ]
  },
  {
   "cell_type": "markdown",
   "id": "T-PXoeoq7nST",
   "metadata": {
    "id": "T-PXoeoq7nST"
   },
   "source": [
    "In the section labeled \"Cleaning\" of this work, several fundamental operations were conducted to prepare Naturgy's data before proceeding with sentiment analysis. The following actions were performed:"
   ]
  },
  {
   "cell_type": "markdown",
   "id": "8Ez1T2pl7tZ6",
   "metadata": {
    "id": "8Ez1T2pl7tZ6"
   },
   "source": [
    "##### **Duplicate Removal**\n",
    "\n",
    "Duplicate records were eliminated based on the unique identifier \"ID_ENCUESTA.\" This ensured that each comment was accounted for only once in the dataset, preventing redundancies."
   ]
  },
  {
   "cell_type": "code",
   "execution_count": null,
   "id": "78b4e10a",
   "metadata": {
    "id": "78b4e10a"
   },
   "outputs": [],
   "source": [
    "# eliminamos duplicados:\n",
    "df.drop_duplicates(subset='ID_ENCUESTA', keep='first', inplace=True)"
   ]
  },
  {
   "cell_type": "markdown",
   "id": "SmSzsjgg717O",
   "metadata": {
    "id": "SmSzsjgg717O"
   },
   "source": [
    "#### **Sentiment Analysis by Category**\n",
    "\n",
    "A specific sentiment analysis was conducted for each category within \"DES_MOTIVO_SR.\" Comments were grouped, and the frequencies of positive and negative sentiments were counted within each category. Subsequently, stacked bar graphs were generated to visualize these results."
   ]
  },
  {
   "cell_type": "code",
   "execution_count": null,
   "id": "4d431933",
   "metadata": {
    "id": "4d431933",
    "outputId": "73dcd204-5b8a-4ea9-a8ab-0e6d161153a2"
   },
   "outputs": [
    {
     "data": {
      "image/png": "[encoded data removed]",
      "text/plain": [
       "<Figure size 1000x600 with 1 Axes>"
      ]
     },
     "metadata": {},
     "output_type": "display_data"
    }
   ],
   "source": [
    "grouped_data = df.groupby(['DES_MOTIVO_SR', 'SENTIMENT']).size().unstack(fill_value=0)\n",
    "\n",
    "# Create the bar plot\n",
    "ax = grouped_data.plot(kind='bar', stacked=True, figsize=(10, 6), colormap='viridis')\n",
    "\n",
    "# Add labels and title\n",
    "plt.xlabel('Sentimients')\n",
    "plt.ylabel('Frequency')\n",
    "plt.title('Frequency of positives and negatives in each code of DES_MOTIVO_SR')\n",
    "plt.legend(title='Sentiments', title_fontsize=12)\n",
    "\n",
    "# Show the plot\n",
    "plt.show()\n",
    "\n",
    "cat_mapping = {'INFORMACION': 0, 'ACTUACION': 1, 'RECLAMACION': 2}\n",
    "df['DES_MOTIVO_SR_enc'] = df['DES_MOTIVO_SR'].map(cat_mapping)"
   ]
  },
  {
   "cell_type": "markdown",
   "id": "gn82ZMdH7_Pe",
   "metadata": {
    "id": "gn82ZMdH7_Pe"
   },
   "source": [
    "#### **Cleaning and Date Transformation**\n",
    "\n",
    "Cleaning and transformation operations were performed on the date columns \"fecha_inicio\" and \"fecha_cierre.\" Missing values were imputed using a Random Forest model, allowing the retention of data rather than discarding it. Additionally, new columns were created to provide detailed information about the dates, such as the year, month, day of the week, season, and whether it was a weekend or not."
   ]
  },
  {
   "cell_type": "code",
   "execution_count": null,
   "id": "8d05b1cf",
   "metadata": {
    "id": "8d05b1cf",
    "outputId": "dc7bb581-39f2-4107-805e-02dd8591bb0d"
   },
   "outputs": [
    {
     "data": {
      "image/png": "[encoded data removed]",
      "text/plain": [
       "<Figure size 1000x600 with 1 Axes>"
      ]
     },
     "metadata": {},
     "output_type": "display_data"
    },
    {
     "data": {
      "image/png": "[encoded data removed]",
      "text/plain": [
       "<Figure size 1000x600 with 1 Axes>"
      ]
     },
     "metadata": {},
     "output_type": "display_data"
    },
    {
     "name": "stdout",
     "output_type": "stream",
     "text": [
      "% de comentarios no resueltos en el mismo día: 10.12\n"
     ]
    }
   ],
   "source": [
    "# revisión e imputación de perdidos en las variables de fecha, así como creación de nuevas columnas:\n",
    "df.rename(columns={'ID_FEC_CREACION': 'fecha_inicio', 'ID_FEC_CIERRE': 'fecha_cierre'}, inplace=True)\n",
    "\n",
    "lista = ['2023-01-01', '2023-01-06', '2023-05-01', '2023-08-15', '2023-10-12', '2023-11-01', '2023-12-06', '2023-12-25']\n",
    "\n",
    "\n",
    "for col in ['fecha_inicio', 'fecha_cierre']:\n",
    "    df[col] = pd.to_datetime(df[col], dayfirst=True, errors='coerce')\n",
    "\n",
    "##########################################################################################################\n",
    "    # realizo zo un RF para imputar los datos perdidos (son un 10%, mucho pa descartarlos)\n",
    "\n",
    "\n",
    "    # Separate rows with missing and non-missing time data\n",
    "    df_missing = df[df[col].isnull()]\n",
    "    df_valid = df[df[col].notnull()]\n",
    "\n",
    "    # Split the valid data into train and test sets\n",
    "    X_train, X_test, y_train, y_test = train_test_split(df_valid[['DES_MOTIVO_SR_enc', 'ID_RECOMENDACION', 'ID_SATISFACCION']], df_valid[col], test_size=0.2, random_state=42)\n",
    "\n",
    "    # Build a RandomForestClassifier for imputation\n",
    "    rf_classifier = RandomForestClassifier()\n",
    "    rf_classifier.fit(X_train.values.reshape(-3, 3), y_train)  # Reshape to make it a 2D array\n",
    "\n",
    "    # Predict missing time data based on the sentiment category\n",
    "    predicted_time_data = rf_classifier.predict(df_missing[['DES_MOTIVO_SR_enc', 'ID_RECOMENDACION', 'ID_SATISFACCION']].values.reshape(-3, 3))\n",
    "\n",
    "    # Fill the missing time data with the predicted values\n",
    "    df.loc[df[col].isnull(), col] = predicted_time_data\n",
    "\n",
    "\n",
    "    df[f'year {col}'] = df[col].dt.year   # lo dejo en inglés por la ñ\n",
    "    df[f'mes {col}'] = df[col].dt.month.map(months_in_spanish)\n",
    "    df[f'dia_semana {col}'] = df[col].dt.strftime('%A').map(days_in_spanish)\n",
    "    df[f'estacion {col}'] = df[col].dt.quarter.map(seasons_in_spanish)\n",
    "    df[f'fin_de_semana {col}'] = ((df[col].dt.weekday > 4) | (df[col].dt.strftime('%Y-%m-%d').isin(lista)))\n",
    "\n",
    "    grouped_data = df.groupby([col, 'SENTIMENT']).size().unstack(fill_value=0)\n",
    "\n",
    "    # Create the line plot\n",
    "    ax = grouped_data.plot(kind='line', marker='o', figsize=(10, 6), colormap='tab10')\n",
    "\n",
    "    # Add labels and title\n",
    "    plt.xlabel('Time')\n",
    "    plt.ylabel('Count')\n",
    "    plt.title('Evolution of the count of sentiments during the timestamp of the dataframe')\n",
    "    plt.legend(title='Sentiments', title_fontsize=12)\n",
    "\n",
    "    # Show the plot\n",
    "    plt.show()\n",
    "\n",
    "df['date_difference'] = (df['fecha_cierre'] - df['fecha_inicio']).dt.days.astype('int64')\n",
    "\n",
    "print(f\"% de comentarios no resueltos en el mismo día: {round(100*len(df[df['date_difference'] > 1])/len(df), 2)}\")"
   ]
  },
  {
   "cell_type": "code",
   "execution_count": null,
   "id": "d5cd369e",
   "metadata": {
    "id": "d5cd369e",
    "outputId": "772246c2-83e2-49b7-9210-c82a2c785e17"
   },
   "outputs": [
    {
     "data": {
      "text/html": [
       "<div>\n",
       "<style scoped>\n",
       "    .dataframe tbody tr th:only-of-type {\n",
       "        vertical-align: middle;\n",
       "    }\n",
       "\n",
       "    .dataframe tbody tr th {\n",
       "        vertical-align: top;\n",
       "    }\n",
       "\n",
       "    .dataframe thead th {\n",
       "        text-align: right;\n",
       "    }\n",
       "</style>\n",
       "<table border=\"1\" class=\"dataframe\">\n",
       "  <thead>\n",
       "    <tr style=\"text-align: right;\">\n",
       "      <th></th>\n",
       "      <th>ID_ENCUESTA</th>\n",
       "      <th>ID_CODIGO_SR</th>\n",
       "      <th>fecha_inicio</th>\n",
       "      <th>fecha_cierre</th>\n",
       "      <th>DES_MOTIVO_SR</th>\n",
       "      <th>DES_PROCESO</th>\n",
       "      <th>DES_TIPO_SR</th>\n",
       "      <th>DES_COMENTARIOS</th>\n",
       "      <th>ID_SATISFACCION</th>\n",
       "      <th>ID_RECOMENDACION</th>\n",
       "      <th>...</th>\n",
       "      <th>mes fecha_inicio</th>\n",
       "      <th>dia_semana fecha_inicio</th>\n",
       "      <th>estacion fecha_inicio</th>\n",
       "      <th>fin_de_semana fecha_inicio</th>\n",
       "      <th>year fecha_cierre</th>\n",
       "      <th>mes fecha_cierre</th>\n",
       "      <th>dia_semana fecha_cierre</th>\n",
       "      <th>estacion fecha_cierre</th>\n",
       "      <th>fin_de_semana fecha_cierre</th>\n",
       "      <th>date_difference</th>\n",
       "    </tr>\n",
       "  </thead>\n",
       "  <tbody>\n",
       "    <tr>\n",
       "      <th>0</th>\n",
       "      <td>29690267</td>\n",
       "      <td>I2-27904984237</td>\n",
       "      <td>2022-05-10</td>\n",
       "      <td>2022-05-10</td>\n",
       "      <td>INFORMACION</td>\n",
       "      <td>Cobro</td>\n",
       "      <td>Información general sobre el cobro</td>\n",
       "      <td>Pues se podria haber resuelto mucho antes, si ...</td>\n",
       "      <td>10</td>\n",
       "      <td>7</td>\n",
       "      <td>...</td>\n",
       "      <td>mayo</td>\n",
       "      <td>Martes</td>\n",
       "      <td>primavera</td>\n",
       "      <td>False</td>\n",
       "      <td>2022</td>\n",
       "      <td>mayo</td>\n",
       "      <td>Martes</td>\n",
       "      <td>primavera</td>\n",
       "      <td>False</td>\n",
       "      <td>0</td>\n",
       "    </tr>\n",
       "    <tr>\n",
       "      <th>1</th>\n",
       "      <td>30519045</td>\n",
       "      <td>A2-28369696133</td>\n",
       "      <td>2022-07-22</td>\n",
       "      <td>2022-07-22</td>\n",
       "      <td>ACTUACION</td>\n",
       "      <td>Mantenimiento de Clientes</td>\n",
       "      <td>Modificación datos del titular</td>\n",
       "      <td>La operadora ha estado perfecta. El problema, ...</td>\n",
       "      <td>10</td>\n",
       "      <td>10</td>\n",
       "      <td>...</td>\n",
       "      <td>julio</td>\n",
       "      <td>Viernes</td>\n",
       "      <td>verano</td>\n",
       "      <td>False</td>\n",
       "      <td>2022</td>\n",
       "      <td>julio</td>\n",
       "      <td>Viernes</td>\n",
       "      <td>verano</td>\n",
       "      <td>False</td>\n",
       "      <td>0</td>\n",
       "    </tr>\n",
       "    <tr>\n",
       "      <th>2</th>\n",
       "      <td>27326806</td>\n",
       "      <td>I2-26572476346</td>\n",
       "      <td>2021-10-05</td>\n",
       "      <td>2021-10-05</td>\n",
       "      <td>INFORMACION</td>\n",
       "      <td>Facturación</td>\n",
       "      <td>Información general sobre la facturación</td>\n",
       "      <td>Pérdida de tiempo. Es imposible hablar con nad...</td>\n",
       "      <td>0</td>\n",
       "      <td>0</td>\n",
       "      <td>...</td>\n",
       "      <td>octubre</td>\n",
       "      <td>Martes</td>\n",
       "      <td>otoño</td>\n",
       "      <td>False</td>\n",
       "      <td>2021</td>\n",
       "      <td>octubre</td>\n",
       "      <td>Martes</td>\n",
       "      <td>otoño</td>\n",
       "      <td>False</td>\n",
       "      <td>0</td>\n",
       "    </tr>\n",
       "    <tr>\n",
       "      <th>3</th>\n",
       "      <td>27041555</td>\n",
       "      <td>A2-26412378319</td>\n",
       "      <td>2021-09-04</td>\n",
       "      <td>2021-09-04</td>\n",
       "      <td>ACTUACION</td>\n",
       "      <td>Contratación del Servicio</td>\n",
       "      <td>Cambio de producto/tarifa/mercado</td>\n",
       "      <td>Si ha sido positiva y rápida</td>\n",
       "      <td>10</td>\n",
       "      <td>10</td>\n",
       "      <td>...</td>\n",
       "      <td>septiembre</td>\n",
       "      <td>Sábado</td>\n",
       "      <td>verano</td>\n",
       "      <td>True</td>\n",
       "      <td>2021</td>\n",
       "      <td>septiembre</td>\n",
       "      <td>Sábado</td>\n",
       "      <td>verano</td>\n",
       "      <td>True</td>\n",
       "      <td>0</td>\n",
       "    </tr>\n",
       "    <tr>\n",
       "      <th>4</th>\n",
       "      <td>29230060</td>\n",
       "      <td>I2-27681001055</td>\n",
       "      <td>2022-04-04</td>\n",
       "      <td>2022-04-04</td>\n",
       "      <td>INFORMACION</td>\n",
       "      <td>Facturación</td>\n",
       "      <td>Información general sobre la facturación</td>\n",
       "      <td>Pues no los recomendaría porque las facturas m...</td>\n",
       "      <td>0</td>\n",
       "      <td>0</td>\n",
       "      <td>...</td>\n",
       "      <td>abril</td>\n",
       "      <td>Lunes</td>\n",
       "      <td>primavera</td>\n",
       "      <td>False</td>\n",
       "      <td>2022</td>\n",
       "      <td>abril</td>\n",
       "      <td>Lunes</td>\n",
       "      <td>primavera</td>\n",
       "      <td>False</td>\n",
       "      <td>0</td>\n",
       "    </tr>\n",
       "  </tbody>\n",
       "</table>\n",
       "<p>5 rows × 23 columns</p>\n",
       "</div>"
      ],
      "text/plain": [
       "   ID_ENCUESTA    ID_CODIGO_SR fecha_inicio fecha_cierre DES_MOTIVO_SR  \\\n",
       "0     29690267  I2-27904984237   2022-05-10   2022-05-10   INFORMACION   \n",
       "1     30519045  A2-28369696133   2022-07-22   2022-07-22     ACTUACION   \n",
       "2     27326806  I2-26572476346   2021-10-05   2021-10-05   INFORMACION   \n",
       "3     27041555  A2-26412378319   2021-09-04   2021-09-04     ACTUACION   \n",
       "4     29230060  I2-27681001055   2022-04-04   2022-04-04   INFORMACION   \n",
       "\n",
       "                 DES_PROCESO                               DES_TIPO_SR  \\\n",
       "0                      Cobro        Información general sobre el cobro   \n",
       "1  Mantenimiento de Clientes            Modificación datos del titular   \n",
       "2                Facturación  Información general sobre la facturación   \n",
       "3  Contratación del Servicio         Cambio de producto/tarifa/mercado   \n",
       "4                Facturación  Información general sobre la facturación   \n",
       "\n",
       "                                     DES_COMENTARIOS  ID_SATISFACCION  \\\n",
       "0  Pues se podria haber resuelto mucho antes, si ...               10   \n",
       "1  La operadora ha estado perfecta. El problema, ...               10   \n",
       "2  Pérdida de tiempo. Es imposible hablar con nad...                0   \n",
       "3                       Si ha sido positiva y rápida               10   \n",
       "4  Pues no los recomendaría porque las facturas m...                0   \n",
       "\n",
       "   ID_RECOMENDACION  ... mes fecha_inicio  dia_semana fecha_inicio  \\\n",
       "0                 7  ...             mayo                   Martes   \n",
       "1                10  ...            julio                  Viernes   \n",
       "2                 0  ...          octubre                   Martes   \n",
       "3                10  ...       septiembre                   Sábado   \n",
       "4                 0  ...            abril                    Lunes   \n",
       "\n",
       "   estacion fecha_inicio fin_de_semana fecha_inicio year fecha_cierre  \\\n",
       "0              primavera                      False              2022   \n",
       "1                 verano                      False              2022   \n",
       "2                  otoño                      False              2021   \n",
       "3                 verano                       True              2021   \n",
       "4              primavera                      False              2022   \n",
       "\n",
       "  mes fecha_cierre  dia_semana fecha_cierre  estacion fecha_cierre  \\\n",
       "0             mayo                   Martes              primavera   \n",
       "1            julio                  Viernes                 verano   \n",
       "2          octubre                   Martes                  otoño   \n",
       "3       septiembre                   Sábado                 verano   \n",
       "4            abril                    Lunes              primavera   \n",
       "\n",
       "  fin_de_semana fecha_cierre date_difference  \n",
       "0                      False               0  \n",
       "1                      False               0  \n",
       "2                      False               0  \n",
       "3                       True               0  \n",
       "4                      False               0  \n",
       "\n",
       "[5 rows x 23 columns]"
      ]
     },
     "execution_count": 30,
     "metadata": {},
     "output_type": "execute_result"
    }
   ],
   "source": [
    "df.head()"
   ]
  },
  {
   "cell_type": "markdown",
   "id": "YOH7dPrv8P3o",
   "metadata": {
    "id": "YOH7dPrv8P3o"
   },
   "source": [
    "#### **Comment Cleaning and Length Analysis**\n",
    "\n",
    "A cleaning function was applied to the comments using the previously defined approach. Furthermore, the lengths of the cleaned comments were calculated, and a bar graph was generated to display the average length of comments based on sentiment."
   ]
  },
  {
   "cell_type": "code",
   "execution_count": null,
   "id": "ab1226c1",
   "metadata": {
    "id": "ab1226c1",
    "outputId": "78952a13-9219-463a-e73b-300d762f1df3"
   },
   "outputs": [
    {
     "data": {
      "image/png": "[encoded data removed]",
      "text/plain": [
       "<Figure size 640x480 with 1 Axes>"
      ]
     },
     "metadata": {},
     "output_type": "display_data"
    }
   ],
   "source": [
    "# limpieza de comentarios y guardado:\n",
    "\n",
    "# Apply the function to each comment\n",
    "df['comments_cleaned'], df['has_exclamation_or_question'] = zip(*df['DES_COMENTARIOS'].map(clean_comments))\n",
    "\n",
    "df['comments_length'] = df['comments_cleaned'].apply(lambda x: len(x))\n",
    "\n",
    "mean_values = df.groupby('SENTIMENT')['comments_length'].mean()\n",
    "\n",
    "ax = mean_values.plot(kind='bar')\n",
    "\n",
    "plt.xlabel('Sentimients')\n",
    "plt.ylabel('Length')\n",
    "plt.title('length of comments depending on sentiments')\n",
    "plt.xticks(rotation=45)\n",
    "plt.tight_layout()\n",
    "\n",
    "# Show the plot\n",
    "plt.show()"
   ]
  },
  {
   "cell_type": "code",
   "execution_count": null,
   "id": "025adaa6",
   "metadata": {
    "id": "025adaa6",
    "outputId": "5bd6f329-df13-43d3-e50c-f972f27ae717"
   },
   "outputs": [
    {
     "data": {
      "text/html": [
       "<div>\n",
       "<style scoped>\n",
       "    .dataframe tbody tr th:only-of-type {\n",
       "        vertical-align: middle;\n",
       "    }\n",
       "\n",
       "    .dataframe tbody tr th {\n",
       "        vertical-align: top;\n",
       "    }\n",
       "\n",
       "    .dataframe thead th {\n",
       "        text-align: right;\n",
       "    }\n",
       "</style>\n",
       "<table border=\"1\" class=\"dataframe\">\n",
       "  <thead>\n",
       "    <tr style=\"text-align: right;\">\n",
       "      <th></th>\n",
       "      <th>ID_ENCUESTA</th>\n",
       "      <th>ID_CODIGO_SR</th>\n",
       "      <th>fecha_inicio</th>\n",
       "      <th>fecha_cierre</th>\n",
       "      <th>DES_MOTIVO_SR</th>\n",
       "      <th>DES_PROCESO</th>\n",
       "      <th>DES_TIPO_SR</th>\n",
       "      <th>DES_COMENTARIOS</th>\n",
       "      <th>ID_SATISFACCION</th>\n",
       "      <th>ID_RECOMENDACION</th>\n",
       "      <th>...</th>\n",
       "      <th>fin_de_semana fecha_inicio</th>\n",
       "      <th>year fecha_cierre</th>\n",
       "      <th>mes fecha_cierre</th>\n",
       "      <th>dia_semana fecha_cierre</th>\n",
       "      <th>estacion fecha_cierre</th>\n",
       "      <th>fin_de_semana fecha_cierre</th>\n",
       "      <th>date_difference</th>\n",
       "      <th>comments_cleaned</th>\n",
       "      <th>has_exclamation_or_question</th>\n",
       "      <th>comments_length</th>\n",
       "    </tr>\n",
       "  </thead>\n",
       "  <tbody>\n",
       "    <tr>\n",
       "      <th>0</th>\n",
       "      <td>29690267</td>\n",
       "      <td>I2-27904984237</td>\n",
       "      <td>2022-05-10</td>\n",
       "      <td>2022-05-10</td>\n",
       "      <td>INFORMACION</td>\n",
       "      <td>Cobro</td>\n",
       "      <td>Información general sobre el cobro</td>\n",
       "      <td>Pues se podria haber resuelto mucho antes, si ...</td>\n",
       "      <td>10</td>\n",
       "      <td>7</td>\n",
       "      <td>...</td>\n",
       "      <td>False</td>\n",
       "      <td>2022</td>\n",
       "      <td>mayo</td>\n",
       "      <td>Martes</td>\n",
       "      <td>primavera</td>\n",
       "      <td>False</td>\n",
       "      <td>0</td>\n",
       "      <td>pues podria haber resuelto si operador dicho m...</td>\n",
       "      <td>True</td>\n",
       "      <td>153</td>\n",
       "    </tr>\n",
       "    <tr>\n",
       "      <th>1</th>\n",
       "      <td>30519045</td>\n",
       "      <td>A2-28369696133</td>\n",
       "      <td>2022-07-22</td>\n",
       "      <td>2022-07-22</td>\n",
       "      <td>ACTUACION</td>\n",
       "      <td>Mantenimiento de Clientes</td>\n",
       "      <td>Modificación datos del titular</td>\n",
       "      <td>La operadora ha estado perfecta. El problema, ...</td>\n",
       "      <td>10</td>\n",
       "      <td>10</td>\n",
       "      <td>...</td>\n",
       "      <td>False</td>\n",
       "      <td>2022</td>\n",
       "      <td>julio</td>\n",
       "      <td>Viernes</td>\n",
       "      <td>verano</td>\n",
       "      <td>False</td>\n",
       "      <td>0</td>\n",
       "      <td>operadora perfecta problema incomprensible hoy...</td>\n",
       "      <td>False</td>\n",
       "      <td>155</td>\n",
       "    </tr>\n",
       "    <tr>\n",
       "      <th>2</th>\n",
       "      <td>27326806</td>\n",
       "      <td>I2-26572476346</td>\n",
       "      <td>2021-10-05</td>\n",
       "      <td>2021-10-05</td>\n",
       "      <td>INFORMACION</td>\n",
       "      <td>Facturación</td>\n",
       "      <td>Información general sobre la facturación</td>\n",
       "      <td>Pérdida de tiempo. Es imposible hablar con nad...</td>\n",
       "      <td>0</td>\n",
       "      <td>0</td>\n",
       "      <td>...</td>\n",
       "      <td>False</td>\n",
       "      <td>2021</td>\n",
       "      <td>octubre</td>\n",
       "      <td>Martes</td>\n",
       "      <td>otoño</td>\n",
       "      <td>False</td>\n",
       "      <td>0</td>\n",
       "      <td>perdida tiempo imposible hablar nadie realment...</td>\n",
       "      <td>False</td>\n",
       "      <td>153</td>\n",
       "    </tr>\n",
       "    <tr>\n",
       "      <th>3</th>\n",
       "      <td>27041555</td>\n",
       "      <td>A2-26412378319</td>\n",
       "      <td>2021-09-04</td>\n",
       "      <td>2021-09-04</td>\n",
       "      <td>ACTUACION</td>\n",
       "      <td>Contratación del Servicio</td>\n",
       "      <td>Cambio de producto/tarifa/mercado</td>\n",
       "      <td>Si ha sido positiva y rápida</td>\n",
       "      <td>10</td>\n",
       "      <td>10</td>\n",
       "      <td>...</td>\n",
       "      <td>True</td>\n",
       "      <td>2021</td>\n",
       "      <td>septiembre</td>\n",
       "      <td>Sábado</td>\n",
       "      <td>verano</td>\n",
       "      <td>True</td>\n",
       "      <td>0</td>\n",
       "      <td>si sido positiva rapida</td>\n",
       "      <td>False</td>\n",
       "      <td>23</td>\n",
       "    </tr>\n",
       "    <tr>\n",
       "      <th>4</th>\n",
       "      <td>29230060</td>\n",
       "      <td>I2-27681001055</td>\n",
       "      <td>2022-04-04</td>\n",
       "      <td>2022-04-04</td>\n",
       "      <td>INFORMACION</td>\n",
       "      <td>Facturación</td>\n",
       "      <td>Información general sobre la facturación</td>\n",
       "      <td>Pues no los recomendaría porque las facturas m...</td>\n",
       "      <td>0</td>\n",
       "      <td>0</td>\n",
       "      <td>...</td>\n",
       "      <td>False</td>\n",
       "      <td>2022</td>\n",
       "      <td>abril</td>\n",
       "      <td>Lunes</td>\n",
       "      <td>primavera</td>\n",
       "      <td>False</td>\n",
       "      <td>0</td>\n",
       "      <td>pues no recomendaria facturas llegan elevadas ...</td>\n",
       "      <td>False</td>\n",
       "      <td>177</td>\n",
       "    </tr>\n",
       "  </tbody>\n",
       "</table>\n",
       "<p>5 rows × 26 columns</p>\n",
       "</div>"
      ],
      "text/plain": [
       "   ID_ENCUESTA    ID_CODIGO_SR fecha_inicio fecha_cierre DES_MOTIVO_SR  \\\n",
       "0     29690267  I2-27904984237   2022-05-10   2022-05-10   INFORMACION   \n",
       "1     30519045  A2-28369696133   2022-07-22   2022-07-22     ACTUACION   \n",
       "2     27326806  I2-26572476346   2021-10-05   2021-10-05   INFORMACION   \n",
       "3     27041555  A2-26412378319   2021-09-04   2021-09-04     ACTUACION   \n",
       "4     29230060  I2-27681001055   2022-04-04   2022-04-04   INFORMACION   \n",
       "\n",
       "                 DES_PROCESO                               DES_TIPO_SR  \\\n",
       "0                      Cobro        Información general sobre el cobro   \n",
       "1  Mantenimiento de Clientes            Modificación datos del titular   \n",
       "2                Facturación  Información general sobre la facturación   \n",
       "3  Contratación del Servicio         Cambio de producto/tarifa/mercado   \n",
       "4                Facturación  Información general sobre la facturación   \n",
       "\n",
       "                                     DES_COMENTARIOS  ID_SATISFACCION  \\\n",
       "0  Pues se podria haber resuelto mucho antes, si ...               10   \n",
       "1  La operadora ha estado perfecta. El problema, ...               10   \n",
       "2  Pérdida de tiempo. Es imposible hablar con nad...                0   \n",
       "3                       Si ha sido positiva y rápida               10   \n",
       "4  Pues no los recomendaría porque las facturas m...                0   \n",
       "\n",
       "   ID_RECOMENDACION  ... fin_de_semana fecha_inicio  year fecha_cierre  \\\n",
       "0                 7  ...                      False               2022   \n",
       "1                10  ...                      False               2022   \n",
       "2                 0  ...                      False               2021   \n",
       "3                10  ...                       True               2021   \n",
       "4                 0  ...                      False               2022   \n",
       "\n",
       "   mes fecha_cierre dia_semana fecha_cierre estacion fecha_cierre  \\\n",
       "0              mayo                  Martes             primavera   \n",
       "1             julio                 Viernes                verano   \n",
       "2           octubre                  Martes                 otoño   \n",
       "3        septiembre                  Sábado                verano   \n",
       "4             abril                   Lunes             primavera   \n",
       "\n",
       "  fin_de_semana fecha_cierre  date_difference  \\\n",
       "0                      False                0   \n",
       "1                      False                0   \n",
       "2                      False                0   \n",
       "3                       True                0   \n",
       "4                      False                0   \n",
       "\n",
       "                                    comments_cleaned  \\\n",
       "0  pues podria haber resuelto si operador dicho m...   \n",
       "1  operadora perfecta problema incomprensible hoy...   \n",
       "2  perdida tiempo imposible hablar nadie realment...   \n",
       "3                            si sido positiva rapida   \n",
       "4  pues no recomendaria facturas llegan elevadas ...   \n",
       "\n",
       "  has_exclamation_or_question comments_length  \n",
       "0                        True             153  \n",
       "1                       False             155  \n",
       "2                       False             153  \n",
       "3                       False              23  \n",
       "4                       False             177  \n",
       "\n",
       "[5 rows x 26 columns]"
      ]
     },
     "execution_count": 32,
     "metadata": {},
     "output_type": "execute_result"
    }
   ],
   "source": [
    "df.head()"
   ]
  },
  {
   "cell_type": "markdown",
   "id": "T4uxtnzQ8XX8",
   "metadata": {
    "id": "T4uxtnzQ8XX8"
   },
   "source": [
    "#### **Saving the Clean Dataset**\n",
    "\n",
    "Finally, unnecessary columns were removed, and the clean dataset was saved into a Parquet file for subsequent use in sentiment analysis."
   ]
  },
  {
   "cell_type": "code",
   "execution_count": null,
   "id": "bbfb2de2",
   "metadata": {
    "id": "bbfb2de2"
   },
   "outputs": [],
   "source": [
    "# guardamos el archivo limpio\n",
    "df.drop(columns=['DES_MOTIVO_SR_enc', 'DES_TIPO_SR', 'DES_PROCESO', 'ID_CODIGO_SR', 'DES_COMENTARIOS'], inplace=True)\n",
    "\n",
    "df.to_parquet('naturgy_tfm_limpio.parquet')"
   ]
  },
  {
   "cell_type": "markdown",
   "id": "ub088ukq8Wu_",
   "metadata": {
    "id": "ub088ukq8Wu_"
   },
   "source": [
    "These cleaning and preparation operations are crucial to ensure the quality and usefulness of Naturgy's data before proceeding with sentiment analysis.\n",
    "\n",
    "\n",
    "\n",
    "\n"
   ]
  },
  {
   "cell_type": "markdown",
   "id": "YwLikekL9SQi",
   "metadata": {
    "id": "YwLikekL9SQi"
   },
   "source": [
    "###  **3. Application of Deep Learning Techniques**"
   ]
  },
  {
   "cell_type": "markdown",
   "id": "omhSUwxvUspb",
   "metadata": {
    "id": "omhSUwxvUspb"
   },
   "source": [
    "Given that this report focuses on sentiment analysis of customer comments regarding received telephone service, it's essential to understand some basic concepts such as NLP (Natural Language Processing). It's a branch of Artificial Intelligence that enables computers to manipulate natural language texts or speeches. It relies on machine learning with the aim of extracting user opinions. This technology has evolved significantly, leading to new techniques like 'Deep Learning,' a technique we've chosen to utilize in this work. Deep Learning is a subfield of machine learning based on the construction and training of artificial neural networks. It allows data clustering for highly accurate predictions and is based on the operation and structure of human brain neurons. To conduct sentiment analysis, we've decided to employ a series of Deep Learning techniques in this report.\n",
    "\n",
    "The two techniques chosen for this analysis are Sentence Transformer and BERT, which we will explain further below.\n"
   ]
  },
  {
   "cell_type": "markdown",
   "id": "0113461a",
   "metadata": {
    "id": "0113461a"
   },
   "source": [
    "### **4. Segmentation**"
   ]
  },
  {
   "cell_type": "markdown",
   "id": "Nh5E8TZp8uVq",
   "metadata": {
    "id": "Nh5E8TZp8uVq"
   },
   "source": [
    "Firstly, for data segmentation, we utilized the Sentence Transformers library specialized in natural language processing and deep learning for text and sentence representation in the form of vectors.\n",
    "\n",
    "After converting sentences, we tested various pre-trained models using Spanish texts to determine which yielded the best results. For this purpose, we assessed the quality of sentences through 'Performance Sentence Embeddings.' This allows us to understand and process text more effectively by evaluating and measuring the performance of embeddings.\n",
    "\n",
    "All tested models were specifically trained for semantic search: given a search query/question, these models can find relevant text fragments. This approach is valuable in this analysis to classify keywords that might have multiple interpretations. \n",
    "\n"
   ]
  },
  {
   "cell_type": "markdown",
   "id": "f5bfedfd",
   "metadata": {
    "id": "f5bfedfd"
   },
   "source": [
    "###  **Embeddings**"
   ]
  },
  {
   "cell_type": "markdown",
   "id": "sP4--DR698W0",
   "metadata": {
    "id": "sP4--DR698W0"
   },
   "source": [
    "After experimenting with various pre-trained multilingual language models, we settled on the \"distiluse-base-multilingual-cased-v1\" model designed to understand and represent text in multiple languages, including Spanish. This model is used to generate embeddings or vector representations of text comments within the data. We chose this model due to its speed in providing results.\n",
    "\n",
    "The process involves taking batches of clean comment texts from the \"comments_cleaned\" column, encoding them into vector representations using the model. These vector representations are stored in a list and then converted into a numpy array for subsequent analysis.\n"
   ]
  },
  {
   "cell_type": "code",
   "execution_count": null,
   "id": "b96c0453",
   "metadata": {
    "colab": {
     "referenced_widgets": [
      "385046d6009f49ab820879d5bbbfb64d",
      "0548ff038e6f443ba698d765cd4cda2e",
      "fde689a922f04cdbbab164864884c289",
      "8d35046d575e44429777d84f25b58bdb",
      "247ab76750f542abb5b13f433779a5f0",
      "a4b200785d7b46179c5736d63b0c2054",
      "977af588b6a74edc9624575d58e29e5d",
      "5293fd6b35334470b1c130daa2b8db54",
      "858b026a881e4571a33c621a8dd9eba1",
      "652b5b0e6aea40cb85e536c76fae08f6",
      "87bd29c23b654cf2b0a6016d90ca2a71",
      "1c09e5f66d584b3daf4f091b2c39966f",
      "b2dfe1120a854edda9a6c0c39ee20291",
      "ac431f92401547df8f23e845918901cd"
     ]
    },
    "id": "b96c0453",
    "outputId": "62b12554-6e3e-4d9e-8971-9fde3262688a"
   },
   "outputs": [
    {
     "data": {
      "application/vnd.jupyter.widget-view+json": {
       "model_id": "385046d6009f49ab820879d5bbbfb64d",
       "version_major": 2,
       "version_minor": 0
      },
      "text/plain": [
       "Downloading (…)5f450/.gitattributes:   0%|          | 0.00/690 [00:00<?, ?B/s]"
      ]
     },
     "metadata": {},
     "output_type": "display_data"
    },
    {
     "data": {
      "application/vnd.jupyter.widget-view+json": {
       "model_id": "0548ff038e6f443ba698d765cd4cda2e",
       "version_major": 2,
       "version_minor": 0
      },
      "text/plain": [
       "Downloading (…)_Pooling/config.json:   0%|          | 0.00/190 [00:00<?, ?B/s]"
      ]
     },
     "metadata": {},
     "output_type": "display_data"
    },
    {
     "data": {
      "application/vnd.jupyter.widget-view+json": {
       "model_id": "fde689a922f04cdbbab164864884c289",
       "version_major": 2,
       "version_minor": 0
      },
      "text/plain": [
       "Downloading (…)/2_Dense/config.json:   0%|          | 0.00/114 [00:00<?, ?B/s]"
      ]
     },
     "metadata": {},
     "output_type": "display_data"
    },
    {
     "data": {
      "application/vnd.jupyter.widget-view+json": {
       "model_id": "8d35046d575e44429777d84f25b58bdb",
       "version_major": 2,
       "version_minor": 0
      },
      "text/plain": [
       "Downloading pytorch_model.bin:   0%|          | 0.00/1.58M [00:00<?, ?B/s]"
      ]
     },
     "metadata": {},
     "output_type": "display_data"
    },
    {
     "data": {
      "application/vnd.jupyter.widget-view+json": {
       "model_id": "247ab76750f542abb5b13f433779a5f0",
       "version_major": 2,
       "version_minor": 0
      },
      "text/plain": [
       "Downloading (…)966465f450/README.md:   0%|          | 0.00/2.38k [00:00<?, ?B/s]"
      ]
     },
     "metadata": {},
     "output_type": "display_data"
    },
    {
     "data": {
      "application/vnd.jupyter.widget-view+json": {
       "model_id": "a4b200785d7b46179c5736d63b0c2054",
       "version_major": 2,
       "version_minor": 0
      },
      "text/plain": [
       "Downloading (…)6465f450/config.json:   0%|          | 0.00/556 [00:00<?, ?B/s]"
      ]
     },
     "metadata": {},
     "output_type": "display_data"
    },
    {
     "data": {
      "application/vnd.jupyter.widget-view+json": {
       "model_id": "977af588b6a74edc9624575d58e29e5d",
       "version_major": 2,
       "version_minor": 0
      },
      "text/plain": [
       "Downloading (…)ce_transformers.json:   0%|          | 0.00/122 [00:00<?, ?B/s]"
      ]
     },
     "metadata": {},
     "output_type": "display_data"
    },
    {
     "data": {
      "application/vnd.jupyter.widget-view+json": {
       "model_id": "5293fd6b35334470b1c130daa2b8db54",
       "version_major": 2,
       "version_minor": 0
      },
      "text/plain": [
       "Downloading pytorch_model.bin:   0%|          | 0.00/539M [00:00<?, ?B/s]"
      ]
     },
     "metadata": {},
     "output_type": "display_data"
    },
    {
     "data": {
      "application/vnd.jupyter.widget-view+json": {
       "model_id": "858b026a881e4571a33c621a8dd9eba1",
       "version_major": 2,
       "version_minor": 0
      },
      "text/plain": [
       "Downloading (…)nce_bert_config.json:   0%|          | 0.00/53.0 [00:00<?, ?B/s]"
      ]
     },
     "metadata": {},
     "output_type": "display_data"
    },
    {
     "data": {
      "application/vnd.jupyter.widget-view+json": {
       "model_id": "652b5b0e6aea40cb85e536c76fae08f6",
       "version_major": 2,
       "version_minor": 0
      },
      "text/plain": [
       "Downloading (…)cial_tokens_map.json:   0%|          | 0.00/112 [00:00<?, ?B/s]"
      ]
     },
     "metadata": {},
     "output_type": "display_data"
    },
    {
     "data": {
      "application/vnd.jupyter.widget-view+json": {
       "model_id": "87bd29c23b654cf2b0a6016d90ca2a71",
       "version_major": 2,
       "version_minor": 0
      },
      "text/plain": [
       "Downloading (…)5f450/tokenizer.json:   0%|          | 0.00/1.96M [00:00<?, ?B/s]"
      ]
     },
     "metadata": {},
     "output_type": "display_data"
    },
    {
     "data": {
      "application/vnd.jupyter.widget-view+json": {
       "model_id": "1c09e5f66d584b3daf4f091b2c39966f",
       "version_major": 2,
       "version_minor": 0
      },
      "text/plain": [
       "Downloading (…)okenizer_config.json:   0%|          | 0.00/452 [00:00<?, ?B/s]"
      ]
     },
     "metadata": {},
     "output_type": "display_data"
    },
    {
     "data": {
      "application/vnd.jupyter.widget-view+json": {
       "model_id": "b2dfe1120a854edda9a6c0c39ee20291",
       "version_major": 2,
       "version_minor": 0
      },
      "text/plain": [
       "Downloading (…)966465f450/vocab.txt:   0%|          | 0.00/996k [00:00<?, ?B/s]"
      ]
     },
     "metadata": {},
     "output_type": "display_data"
    },
    {
     "data": {
      "application/vnd.jupyter.widget-view+json": {
       "model_id": "ac431f92401547df8f23e845918901cd",
       "version_major": 2,
       "version_minor": 0
      },
      "text/plain": [
       "Downloading (…)465f450/modules.json:   0%|          | 0.00/341 [00:00<?, ?B/s]"
      ]
     },
     "metadata": {},
     "output_type": "display_data"
    }
   ],
   "source": [
    "# modelo entrenado en español (además de otros idiomas)\n",
    "model_name = 'distiluse-base-multilingual-cased-v1'\n",
    "model = SentenceTransformer(model_name)"
   ]
  },
  {
   "cell_type": "code",
   "execution_count": null,
   "id": "23b164cf",
   "metadata": {
    "id": "23b164cf"
   },
   "outputs": [],
   "source": [
    "# Tamaño del lote (batch size)\n",
    "batch_size = 5000\n",
    "\n",
    "# Obtener el número total de textos\n",
    "num_texts = len(df)\n",
    "\n",
    "# Inicializar una lista para almacenar las representaciones vectoriales\n",
    "document_embeddings = []\n",
    "\n",
    "# Codificar los textos en lotes\n",
    "for start_index in range(0, num_texts, batch_size):\n",
    "    end_index = min(start_index + batch_size, num_texts)\n",
    "    batch_texts = df['comments_cleaned'][start_index:end_index].tolist()\n",
    "    batch_embeddings = model.encode(batch_texts)\n",
    "    document_embeddings.extend(batch_embeddings)\n",
    "\n",
    "# Convertir la lista de representaciones vectoriales en un array numpy\n",
    "document_embeddings = np.array(document_embeddings)"
   ]
  },
  {
   "cell_type": "markdown",
   "id": "e763f794",
   "metadata": {
    "id": "e763f794"
   },
   "source": [
    "###  **Clustering**"
   ]
  },
  {
   "cell_type": "markdown",
   "id": "rqaVQCn7-FiH",
   "metadata": {
    "id": "rqaVQCn7-FiH"
   },
   "source": [
    "Once the model was pre-trained, we employed the KMeans algorithm to group the data into clusters based on the previously generated vector representations. After several trials, we ultimately settled on clustering into 4 clusters, which yielded the best result.\n",
    "\n",
    "The code assigns each comment to one of the clusters, allowing data segmentation into similar groups. Examples of comments within each cluster are printed to gain a better understanding of the types of comments grouped together."
   ]
  },
  {
   "cell_type": "code",
   "execution_count": null,
   "id": "95e527d0",
   "metadata": {
    "id": "95e527d0"
   },
   "outputs": [],
   "source": [
    "# probar la clusterización de los embeddings\n",
    "num_clusters = 4\n",
    "clustering_model = KMeans(n_clusters=num_clusters, init='k-means++', max_iter=500, n_init=3)\n",
    "clustering_model.fit(document_embeddings)\n",
    "cluster_assignment = clustering_model.labels_\n",
    "\n",
    "df['cluster'] = cluster_assignment"
   ]
  },
  {
   "cell_type": "code",
   "execution_count": null,
   "id": "e0c86142",
   "metadata": {
    "id": "e0c86142",
    "outputId": "0dfaad7a-14f5-4b72-e4e0-a94101df7680"
   },
   "outputs": [
    {
     "name": "stdout",
     "output_type": "stream",
     "text": [
      "Cluster 0:\n",
      "['si sido positiva rapida' 'atencion personal perfecta'\n",
      " 'puta mierda naturgy' ... 'agradables explican bien duda'\n",
      " 'valoro atencion esfuerzo entender intereses valorar puntuacion gracias'\n",
      " 'no recomiendo ninguna manera experiencia mala'] \n",
      "\n",
      "Cluster 1:\n",
      "['operadora perfecta problema incomprensible hoy dia no puedo dado alta tener mismo correo electronico dos propiedades diferentes casos contrato nombre mujer'\n",
      " 'pues no recomendaria facturas llegan elevadas puesto servicios no contrate facturas no llegan meses demasiado si no resuelven cambiare empresa ofrece mejor servicio menos dinero'\n",
      " 'positiva operadora confirmado si contrato compensacion excedentes solares mantiene tarifa compromiso centimos kilovatio hora'\n",
      " ...\n",
      " 'pues dudoso trato bueno aun esperando arregle error cambio contrato llevo semanas esperando'\n",
      " 'descontenta servicio facturacion pensando cambiar compañia'\n",
      " 'atendido siempre rapido explicado cualquier duda no entendia muchas modalidades contratos pueden ajustar cualquier cliente algun problema diferentes circunstancias podido gestionar forma pago'] \n",
      "\n",
      "Cluster 2:\n",
      "['pues podria haber resuelto si operador dicho mayo tenia hacer cree podia recomendar alguie empresa segun persona coja solucionarlo ganas trabajar momento'\n",
      " 'perdida tiempo imposible hablar nadie realmente pueda darte soluciones unico encuentras personas repiten mismo mantra poder aportar nada servicio nefasto'\n",
      " 'informacion imprecisa pedir rectificacion dice llame hablar agente si no cree'\n",
      " ... 'si no llamar'\n",
      " 'solicite ampliacion potencia atendio persona amable clara tiempo espera minutos'\n",
      " 'haber sido atendidos primera llamada'] \n",
      "\n",
      "Cluster 3:\n",
      "['mal entendido facturas final resuelto satisfactoriamente'\n",
      " 'siempre solucionan dudas problemas'\n",
      " 'no ningun problema hora gestionar solicitud rapido claro eficiente' ...\n",
      " 'resuelto problema rapido unas instrucciones claras empleado eficiente cordial'\n",
      " 'resuelto dudas mostrado correcto' 'resuelvan dudas'] \n",
      "\n"
     ]
    }
   ],
   "source": [
    "# ejemplos de clusters\n",
    "for i in range(num_clusters):\n",
    "    print(f\"Cluster {i}:\")\n",
    "    print(df[df['cluster'] == i]['comments_cleaned'].values, \"\\n\")"
   ]
  },
  {
   "cell_type": "code",
   "execution_count": null,
   "id": "8bc476ae",
   "metadata": {
    "id": "8bc476ae",
    "outputId": "14623f72-f94d-454e-a6e2-85aae69cf74a"
   },
   "outputs": [
    {
     "data": {
      "text/plain": [
       "cluster\n",
       "mixed - positive    115241\n",
       "negative             85818\n",
       "positive             68985\n",
       "mixed - negative     50816\n",
       "Name: count, dtype: int64"
      ]
     },
     "execution_count": 39,
     "metadata": {},
     "output_type": "execute_result"
    }
   ],
   "source": [
    "# Utilizamos el método 'map' para aplicar el mapeo y crear una nueva serie:\n",
    "df['cluster'] = df['cluster'].map(cluster_dic)\n",
    "\n",
    "df['cluster'].value_counts()"
   ]
  },
  {
   "cell_type": "code",
   "execution_count": null,
   "id": "8b49be5c",
   "metadata": {
    "id": "8b49be5c",
    "outputId": "6eae9bd0-f1c3-41be-befe-f28b97fe12c0"
   },
   "outputs": [
    {
     "name": "stdout",
     "output_type": "stream",
     "text": [
      "SENTIMENT             MIXED   NEGATIVE    NEUTRAL   POSITIVE\n",
      "cluster                                                     \n",
      "mixed - negative  10.215287  22.644443  13.832258  53.308013\n",
      "mixed - positive  15.467585  56.492047  14.279640  13.760728\n",
      "negative           5.047892   9.357011  16.657345  68.937752\n",
      "positive          20.184098  41.203160  11.677901  26.934841\n"
     ]
    }
   ],
   "source": [
    "# Comprobamos los porcentajes de sentimientos que hay en cada cluster para ver si estos son representativos y tienen diferencia entre sí\n",
    "table = df.pivot_table(index='cluster', columns='SENTIMENT', aggfunc='size', fill_value=0)\n",
    "table_percentage = table.div(table.sum(axis=1), axis=0) * 100\n",
    "\n",
    "print(table_percentage)"
   ]
  },
  {
   "cell_type": "markdown",
   "id": "6eb1a66c",
   "metadata": {
    "id": "6eb1a66c"
   },
   "source": [
    "###  **Community detection**"
   ]
  },
  {
   "cell_type": "markdown",
   "id": "1IKDS_m8-LnL",
   "metadata": {
    "id": "1IKDS_m8-LnL"
   },
   "source": [
    "This subsection continues to explore community detection within the comments using the previously generated vector representations. Similar to the previous step, community detection techniques are applied to cluster the comments into communities based on content similarity.\n",
    "\n",
    "The code creates a dictionary that assigns each comment to a specific community and adds this information as a new column named \"community\" in the DataFrame. The formed communities are explored, showcasing how comments are grouped within these communities.\n",
    "\n",
    "In summary, this section of the work utilizes advanced techniques for processing similarity relationships. In this specific case, given the text data we have, it might not be effectively feasible.\n"
   ]
  },
  {
   "cell_type": "code",
   "execution_count": null,
   "id": "00cf9296",
   "metadata": {
    "id": "00cf9296"
   },
   "outputs": [],
   "source": [
    "# communities = community_detection(\n",
    "#     document_embeddings, threshold=0.5, min_community_size=2, batch_size=1024\n",
    "# )\n",
    "\n",
    "# # Crear un diccionario para almacenar las asignaciones de comunidades por índice\n",
    "# community_dict = {}\n",
    "\n",
    "# for i, comm in enumerate(communities):\n",
    "#     for ind in comm:\n",
    "#         community_dict[ind] = i  # Asignar la comunidad correspondiente al índice\n",
    "\n",
    "# # Crear una nueva columna 'community' en el DataFrame basada en el diccionario de asignaciones\n",
    "# df['community'] = df.index.map(community_dict.get)\n",
    "\n",
    "# # Llenar los valores NaN en la columna 'community' con -1\n",
    "# df['community'].fillna(-1, inplace=True)\n",
    "\n",
    "# for i, comm in enumerate(communities):\n",
    "#     print('_' * 50)\n",
    "#     print(f'community: {i}, size: {len(comm)}')\n",
    "#     print('\\n'.join([batch_texts[ind] for ind in comm]))\n",
    "#     print()\n"
   ]
  },
  {
   "cell_type": "code",
   "execution_count": null,
   "id": "ddfb7449",
   "metadata": {
    "id": "ddfb7449"
   },
   "outputs": [],
   "source": [
    "# como vemos, se forman pocas comunidades con muy pocos valores (posiblemente por los límites del vocabulario español entrenado en el modelo)\n",
    "# df['community'].value_counts()"
   ]
  },
  {
   "cell_type": "markdown",
   "id": "d168e240",
   "metadata": {
    "id": "d168e240"
   },
   "source": [
    "## **5. Sentiment Classification**"
   ]
  },
  {
   "cell_type": "markdown",
   "id": "AOD1FPipBkx2",
   "metadata": {
    "id": "AOD1FPipBkx2"
   },
   "source": [
    "This section involved a series of essential tasks to prepare the data for subsequent sentiment analysis."
   ]
  },
  {
   "cell_type": "markdown",
   "id": "175a373d",
   "metadata": {
    "id": "175a373d"
   },
   "source": [
    "###  **Preprocessing**"
   ]
  },
  {
   "cell_type": "markdown",
   "id": "LDG0MSS2BwT0",
   "metadata": {
    "id": "LDG0MSS2BwT0"
   },
   "source": [
    "In this segment, a series of crucial processes are undertaken to prepare the data for further analysis and modeling. Firstly, columns that are not deemed relevant for the study are removed. Subsequently, a backup copy of the original data is created, ensuring data safety.\n",
    "\n",
    "The next step involves converting categorical labels into numerical values. This is pivotal since many machine learning algorithms require numerical data to operate. To achieve this, a process known as \"label encoding\" is utilized.\n",
    "\n",
    "Finally, crucial information about the dataset is provided, such as its size and the types of data present. This summary is essential for understanding the nature of the data to be worked on in later stages of the project."
   ]
  },
  {
   "cell_type": "code",
   "execution_count": null,
   "id": "dbe8a208",
   "metadata": {
    "id": "dbe8a208",
    "outputId": "b1694d79-0eaa-44c4-a1c0-98c13d28b861"
   },
   "outputs": [
    {
     "name": "stdout",
     "output_type": "stream",
     "text": [
      "<class 'pandas.core.frame.DataFrame'>\n",
      "Index: 320860 entries, 0 to 337630\n",
      "Data columns (total 19 columns):\n",
      " #   Column                       Non-Null Count   Dtype  \n",
      "---  ------                       --------------   -----  \n",
      " 0   DES_MOTIVO_SR                320860 non-null  int64  \n",
      " 1   ID_SATISFACCION              320860 non-null  float64\n",
      " 2   ID_RECOMENDACION             320860 non-null  float64\n",
      " 3   SENTIMENT                    320860 non-null  int64  \n",
      " 4   year fecha_inicio            320860 non-null  float64\n",
      " 5   mes fecha_inicio             320860 non-null  int64  \n",
      " 6   dia_semana fecha_inicio      320860 non-null  int64  \n",
      " 7   estacion fecha_inicio        320860 non-null  int64  \n",
      " 8   fin_de_semana fecha_inicio   320860 non-null  int64  \n",
      " 9   year fecha_cierre            320860 non-null  float64\n",
      " 10  mes fecha_cierre             320860 non-null  int64  \n",
      " 11  dia_semana fecha_cierre      320860 non-null  int64  \n",
      " 12  estacion fecha_cierre        320860 non-null  int64  \n",
      " 13  fin_de_semana fecha_cierre   320860 non-null  int64  \n",
      " 14  date_difference              320860 non-null  float64\n",
      " 15  comments_cleaned             320860 non-null  object \n",
      " 16  has_exclamation_or_question  320860 non-null  int64  \n",
      " 17  comments_length              320860 non-null  float64\n",
      " 18  cluster                      320860 non-null  int64  \n",
      "dtypes: float64(6), int64(12), object(1)\n",
      "memory usage: 49.0+ MB\n"
     ]
    }
   ],
   "source": [
    "# Eliminamos columnas y realizamos label encoding\n",
    "\n",
    "# copia por seguridad\n",
    "df1 = df.copy()\n",
    "\n",
    "df.drop(columns=['ID_ENCUESTA', 'fecha_inicio', 'fecha_cierre'], inplace=True)\n",
    "\n",
    "\n",
    "\n",
    "label_encoder = LabelEncoder()\n",
    "\n",
    "for col in ['DES_MOTIVO_SR', 'fin_de_semana fecha_inicio', 'fin_de_semana fecha_cierre', 'estacion fecha_inicio', 'estacion fecha_cierre', 'mes fecha_inicio', 'mes fecha_cierre',\n",
    "            'dia_semana fecha_inicio', 'dia_semana fecha_cierre', 'has_exclamation_or_question', 'cluster', 'SENTIMENT']:\n",
    "    df[col] = label_encoder.fit_transform(df[col])\n",
    "\n",
    "df.info()"
   ]
  },
  {
   "cell_type": "code",
   "execution_count": null,
   "id": "a4a61b32",
   "metadata": {
    "id": "a4a61b32",
    "outputId": "5341ac2b-7d59-4e14-9ded-85e4d45bdcc2"
   },
   "outputs": [
    {
     "name": "stdout",
     "output_type": "stream",
     "text": [
      "<class 'pandas.core.frame.DataFrame'>\n",
      "Index: 320860 entries, 0 to 337630\n",
      "Data columns (total 19 columns):\n",
      " #   Column                       Non-Null Count   Dtype  \n",
      "---  ------                       --------------   -----  \n",
      " 0   DES_MOTIVO_SR                320860 non-null  int64  \n",
      " 1   ID_SATISFACCION              320860 non-null  float64\n",
      " 2   ID_RECOMENDACION             320860 non-null  float64\n",
      " 3   SENTIMENT                    320860 non-null  int64  \n",
      " 4   year fecha_inicio            320860 non-null  float64\n",
      " 5   mes fecha_inicio             320860 non-null  int64  \n",
      " 6   dia_semana fecha_inicio      320860 non-null  int64  \n",
      " 7   estacion fecha_inicio        320860 non-null  int64  \n",
      " 8   fin_de_semana fecha_inicio   320860 non-null  int64  \n",
      " 9   year fecha_cierre            320860 non-null  float64\n",
      " 10  mes fecha_cierre             320860 non-null  int64  \n",
      " 11  dia_semana fecha_cierre      320860 non-null  int64  \n",
      " 12  estacion fecha_cierre        320860 non-null  int64  \n",
      " 13  fin_de_semana fecha_cierre   320860 non-null  int64  \n",
      " 14  date_difference              320860 non-null  float64\n",
      " 15  comments_cleaned             320860 non-null  object \n",
      " 16  has_exclamation_or_question  320860 non-null  int64  \n",
      " 17  comments_length              320860 non-null  float64\n",
      " 18  cluster                      320860 non-null  int64  \n",
      "dtypes: float64(6), int64(12), object(1)\n",
      "memory usage: 49.0+ MB\n"
     ]
    }
   ],
   "source": [
    "df.info()"
   ]
  },
  {
   "cell_type": "markdown",
   "id": "jDlCJz77BzB7",
   "metadata": {
    "id": "jDlCJz77BzB7"
   },
   "source": [
    "In this section, the dataset columns are adjusted to have a uniform scale, making them easier to compare—a crucial step for subsequent analysis and modeling. This is achieved using a technique called \"StandardScaler.\""
   ]
  },
  {
   "cell_type": "code",
   "execution_count": null,
   "id": "72bcc863",
   "metadata": {
    "id": "72bcc863"
   },
   "outputs": [],
   "source": [
    "# Normalizamos columnas:\n",
    "columns_to_exclude = ['comments_cleaned', 'SENTIMENT']\n",
    "columns_to_scale = [col for col in df.columns if col not in columns_to_exclude]\n",
    "scaler = StandardScaler()\n",
    "df[columns_to_scale] = scaler.fit_transform(df[columns_to_scale])"
   ]
  },
  {
   "cell_type": "markdown",
   "id": "8UYGEr2uB3U9",
   "metadata": {
    "id": "8UYGEr2uB3U9"
   },
   "source": [
    "Next, the cleaned text is prepared for further analysis. A technique called \"TF-IDF Vectorization\" is employed to convert the text into a machine-comprehensible numerical form. Subsequently, the dataset is split into training and testing sets for later use in machine learning models."
   ]
  },
  {
   "cell_type": "code",
   "execution_count": null,
   "id": "d9922459",
   "metadata": {
    "id": "d9922459"
   },
   "outputs": [],
   "source": [
    "# Como ya hemos limpiado el texto previamente, utilizamos el vectorizador de tfidf con los parámetros por defecto:\n",
    "\n",
    "X_train, X_test, y_train, y_test = train_test_split(df.drop(columns='SENTIMENT'), df.SENTIMENT, test_size=0.2, random_state=42)\n",
    "\n",
    "vectorizer = TfidfVectorizer(min_df=0.001, tokenizer=None)\n",
    "\n",
    "vector_train = vectorizer.fit_transform(X_train['comments_cleaned'])\n",
    "\n",
    "vector_test = vectorizer.transform(X_test['comments_cleaned'])"
   ]
  },
  {
   "cell_type": "markdown",
   "id": "nBAgn-paCLj6",
   "metadata": {
    "id": "nBAgn-paCLj6"
   },
   "source": [
    "Following this, features extracted from the previously processed text are combined with other relevant data columns. This creates a comprehensive feature set to be utilized in machine learning models to predict sentiment labels."
   ]
  },
  {
   "cell_type": "code",
   "execution_count": null,
   "id": "b8c9cb99",
   "metadata": {
    "id": "b8c9cb99"
   },
   "outputs": [],
   "source": [
    "# Juntamos columnas\n",
    "X_train = np.hstack([vector_train.toarray(), X_train[columns_to_scale]])\n",
    "X_test = np.hstack([vector_test.toarray(), X_test[columns_to_scale]])"
   ]
  },
  {
   "cell_type": "markdown",
   "id": "QiEsX61bCORB",
   "metadata": {
    "id": "QiEsX61bCORB"
   },
   "source": [
    "Class weights are computed for the target classes to account for class imbalance. These weights are later used in machine learning models to ensure appropriate weighting of different classes during model training."
   ]
  },
  {
   "cell_type": "code",
   "execution_count": null,
   "id": "feb1e3b6",
   "metadata": {
    "id": "feb1e3b6"
   },
   "outputs": [],
   "source": [
    "# definimos los pesos de las clases objetivo:\n",
    "weights = class_weight.compute_class_weight('balanced', classes=[0, 1, 2, 3], y=y_train)\n",
    "class_weights = dict(enumerate(weights))"
   ]
  },
  {
   "cell_type": "markdown",
   "id": "5c0004d6",
   "metadata": {
    "id": "5c0004d6"
   },
   "source": [
    "###  **ML Prediction**"
   ]
  },
  {
   "cell_type": "markdown",
   "id": "rXpkQSImCW_-",
   "metadata": {
    "id": "rXpkQSImCW_-"
   },
   "source": [
    "Here, a Random Forest (RF) classification model's detailed exploration involves learning from data and making predictions about sentiment polarity in customer comments—categorized as positive, negative, mixed, or neutral. Implementing RF provides a robust tool for automatically discerning and classifying these sentiments based on data features. The best-performing model is saved in a file named \"best_model_pipeline.py\" for potential future use."
   ]
  },
  {
   "cell_type": "code",
   "execution_count": null,
   "id": "ae6c901f",
   "metadata": {
    "id": "ae6c901f"
   },
   "outputs": [],
   "source": [
    "#Este clasificador de autoML da un resultado similar al RF con los parámetros de default. Como tarda en torno a 6 horas, dejamos a elección del usuario ejecutarlo o no\n",
    "#tpot = TPOTClassifier(generations=5, population_size=20, verbosity=2, random_state=42)\n",
    "#tpot.fit(vector_train, y_train)\n",
    "#accuracy = tpot.score(vector_test, y_test)\n",
    "#print(f\"Accuracy: {accuracy:.2f}\")\n",
    "\n",
    "#best_model = tpot.fitted_pipeline_.steps[-1][1]\n",
    "#print(\"Best Model:\", type(best_model).__name__)\n",
    "#print(\"Parameters:\", best_model.get_params())\n",
    "\n",
    "#tpot.export(f'{direction}best_model_pipeline.py')"
   ]
  },
  {
   "cell_type": "code",
   "execution_count": null,
   "id": "651d78af",
   "metadata": {
    "id": "651d78af",
    "outputId": "85c091c5-580c-41f7-e1a8-b16d2573be53"
   },
   "outputs": [
    {
     "name": "stdout",
     "output_type": "stream",
     "text": [
      "              precision    recall  f1-score   support\n",
      "\n",
      "           0       0.55      0.25      0.35      8330\n",
      "           1       0.71      0.89      0.79     22719\n",
      "           2       0.63      0.48      0.54      9226\n",
      "           3       0.83      0.86      0.84     23897\n",
      "\n",
      "    accuracy                           0.73     64172\n",
      "   macro avg       0.68      0.62      0.63     64172\n",
      "weighted avg       0.72      0.73      0.71     64172\n",
      "\n",
      "376.17996859550476\n"
     ]
    }
   ],
   "source": [
    "# Entrenamos RF completo\n",
    "tic = time.time()\n",
    "rf_model = RandomForestClassifier(class_weight=class_weights, random_state=42)\n",
    "rf_model.fit(X_train, y_train)\n",
    "\n",
    "# Make predictions on the test dataset\n",
    "y_pred = rf_model.predict(X_test)\n",
    "\n",
    "print(classification_report(y_test, y_pred))\n",
    "toc = time.time()\n",
    "\n",
    "time_RF_model = (toc - tic)\n",
    "print(time_RF_model)"
   ]
  },
  {
   "cell_type": "code",
   "execution_count": null,
   "id": "5dae5ded",
   "metadata": {
    "id": "5dae5ded",
    "outputId": "6196cf3b-d617-4330-c109-9979582bbdcf"
   },
   "outputs": [
    {
     "name": "stdout",
     "output_type": "stream",
     "text": [
      "              precision    recall  f1-score   support\n",
      "\n",
      "           0       0.52      0.24      0.33      8330\n",
      "           1       0.70      0.88      0.78     22719\n",
      "           2       0.61      0.55      0.58      9226\n",
      "           3       0.84      0.83      0.83     23897\n",
      "\n",
      "    accuracy                           0.73     64172\n",
      "   macro avg       0.67      0.62      0.63     64172\n",
      "weighted avg       0.72      0.73      0.71     64172\n",
      "\n",
      "1033.3935098648071\n"
     ]
    }
   ],
   "source": [
    "# Entrenamos RF sólo con el texto: vemos que apenas hay diferencias\n",
    "tic = time.time()\n",
    "rf_model = RandomForestClassifier(class_weight=class_weights, random_state=42)\n",
    "rf_model.fit(vector_train, y_train)\n",
    "\n",
    "# Make predictions on the test dataset\n",
    "y_pred = rf_model.predict(vector_test)\n",
    "\n",
    "print(classification_report(y_test, y_pred))\n",
    "toc = time.time()\n",
    "\n",
    "time_RF_model = (toc - tic)\n",
    "print(time_RF_model)"
   ]
  },
  {
   "cell_type": "code",
   "execution_count": null,
   "id": "c36e9e52",
   "metadata": {
    "id": "c36e9e52"
   },
   "outputs": [],
   "source": [
    "# guardamos el modelo:\n",
    "with gzip.open('RF_model_clean.pkl.gz', 'wb') as model_file:\n",
    "    pickle.dump(rf_model, model_file)"
   ]
  },
  {
   "cell_type": "markdown",
   "id": "30c45617",
   "metadata": {
    "id": "30c45617"
   },
   "source": [
    "####  **Testing with Original Text**"
   ]
  },
  {
   "cell_type": "markdown",
   "id": "ajU9pzq3Clki",
   "metadata": {
    "id": "ajU9pzq3Clki"
   },
   "source": [
    "Another RF model is trained using only the original, unprocessed text as a feature to compare performance with and without text preprocessing."
   ]
  },
  {
   "cell_type": "code",
   "execution_count": null,
   "id": "941999e1",
   "metadata": {
    "id": "941999e1"
   },
   "outputs": [],
   "source": [
    "# cargamos df\n",
    "df_original = pd.read_parquet(\"naturgy_tfm (2).parquet\", engine ='pyarrow')"
   ]
  },
  {
   "cell_type": "code",
   "execution_count": null,
   "id": "c815fc60",
   "metadata": {
    "id": "c815fc60",
    "outputId": "1400f56e-63cb-47fd-e171-321bfd9beee1"
   },
   "outputs": [
    {
     "name": "stdout",
     "output_type": "stream",
     "text": [
      "<class 'pandas.core.frame.DataFrame'>\n",
      "Index: 322101 entries, 0 to 337630\n",
      "Data columns (total 11 columns):\n",
      " #   Column            Non-Null Count   Dtype \n",
      "---  ------            --------------   ----- \n",
      " 0   ID_ENCUESTA       322101 non-null  int64 \n",
      " 1   ID_CODIGO_SR      322101 non-null  object\n",
      " 2   ID_FEC_CREACION   287185 non-null  object\n",
      " 3   ID_FEC_CIERRE     287184 non-null  object\n",
      " 4   DES_MOTIVO_SR     322101 non-null  object\n",
      " 5   DES_PROCESO       287185 non-null  object\n",
      " 6   DES_TIPO_SR       287185 non-null  object\n",
      " 7   DES_COMENTARIOS   322101 non-null  object\n",
      " 8   ID_SATISFACCION   322101 non-null  int64 \n",
      " 9   ID_RECOMENDACION  322101 non-null  int64 \n",
      " 10  SENTIMENT         322101 non-null  object\n",
      "dtypes: int64(3), object(8)\n",
      "memory usage: 29.5+ MB\n"
     ]
    }
   ],
   "source": [
    "df_original.info()"
   ]
  },
  {
   "cell_type": "code",
   "execution_count": null,
   "id": "de3d80ae",
   "metadata": {
    "id": "de3d80ae",
    "outputId": "dba55cdc-ce01-4bde-ebda-c232c652b258"
   },
   "outputs": [
    {
     "data": {
      "text/html": [
       "<div>\n",
       "<style scoped>\n",
       "    .dataframe tbody tr th:only-of-type {\n",
       "        vertical-align: middle;\n",
       "    }\n",
       "\n",
       "    .dataframe tbody tr th {\n",
       "        vertical-align: top;\n",
       "    }\n",
       "\n",
       "    .dataframe thead th {\n",
       "        text-align: right;\n",
       "    }\n",
       "</style>\n",
       "<table border=\"1\" class=\"dataframe\">\n",
       "  <thead>\n",
       "    <tr style=\"text-align: right;\">\n",
       "      <th></th>\n",
       "      <th>ID_ENCUESTA</th>\n",
       "      <th>ID_CODIGO_SR</th>\n",
       "      <th>ID_FEC_CREACION</th>\n",
       "      <th>ID_FEC_CIERRE</th>\n",
       "      <th>DES_MOTIVO_SR</th>\n",
       "      <th>DES_PROCESO</th>\n",
       "      <th>DES_TIPO_SR</th>\n",
       "      <th>DES_COMENTARIOS</th>\n",
       "      <th>ID_SATISFACCION</th>\n",
       "      <th>ID_RECOMENDACION</th>\n",
       "      <th>SENTIMENT</th>\n",
       "    </tr>\n",
       "  </thead>\n",
       "  <tbody>\n",
       "    <tr>\n",
       "      <th>0</th>\n",
       "      <td>29690267</td>\n",
       "      <td>I2-27904984237</td>\n",
       "      <td>10/05/2022</td>\n",
       "      <td>10/05/2022</td>\n",
       "      <td>INFORMACION</td>\n",
       "      <td>Cobro</td>\n",
       "      <td>Información general sobre el cobro</td>\n",
       "      <td>Pues se podria haber resuelto mucho antes, si ...</td>\n",
       "      <td>10</td>\n",
       "      <td>7</td>\n",
       "      <td>NEGATIVE</td>\n",
       "    </tr>\n",
       "    <tr>\n",
       "      <th>1</th>\n",
       "      <td>30519045</td>\n",
       "      <td>A2-28369696133</td>\n",
       "      <td>22/07/2022</td>\n",
       "      <td>22/07/2022</td>\n",
       "      <td>ACTUACION</td>\n",
       "      <td>Mantenimiento de Clientes</td>\n",
       "      <td>Modificación datos del titular</td>\n",
       "      <td>La operadora ha estado perfecta. El problema, ...</td>\n",
       "      <td>10</td>\n",
       "      <td>10</td>\n",
       "      <td>MIXED</td>\n",
       "    </tr>\n",
       "    <tr>\n",
       "      <th>2</th>\n",
       "      <td>27326806</td>\n",
       "      <td>I2-26572476346</td>\n",
       "      <td>05/10/2021</td>\n",
       "      <td>05/10/2021</td>\n",
       "      <td>INFORMACION</td>\n",
       "      <td>Facturación</td>\n",
       "      <td>Información general sobre la facturación</td>\n",
       "      <td>Pérdida de tiempo. Es imposible hablar con nad...</td>\n",
       "      <td>0</td>\n",
       "      <td>0</td>\n",
       "      <td>NEGATIVE</td>\n",
       "    </tr>\n",
       "    <tr>\n",
       "      <th>3</th>\n",
       "      <td>27041555</td>\n",
       "      <td>A2-26412378319</td>\n",
       "      <td>04/09/2021</td>\n",
       "      <td>04/09/2021</td>\n",
       "      <td>ACTUACION</td>\n",
       "      <td>Contratación del Servicio</td>\n",
       "      <td>Cambio de producto/tarifa/mercado</td>\n",
       "      <td>Si ha sido positiva y rápida</td>\n",
       "      <td>10</td>\n",
       "      <td>10</td>\n",
       "      <td>POSITIVE</td>\n",
       "    </tr>\n",
       "    <tr>\n",
       "      <th>4</th>\n",
       "      <td>29230060</td>\n",
       "      <td>I2-27681001055</td>\n",
       "      <td>04/04/2022</td>\n",
       "      <td>04/04/2022</td>\n",
       "      <td>INFORMACION</td>\n",
       "      <td>Facturación</td>\n",
       "      <td>Información general sobre la facturación</td>\n",
       "      <td>Pues no los recomendaría porque las facturas m...</td>\n",
       "      <td>0</td>\n",
       "      <td>0</td>\n",
       "      <td>MIXED</td>\n",
       "    </tr>\n",
       "  </tbody>\n",
       "</table>\n",
       "</div>"
      ],
      "text/plain": [
       "   ID_ENCUESTA    ID_CODIGO_SR ID_FEC_CREACION ID_FEC_CIERRE DES_MOTIVO_SR  \\\n",
       "0     29690267  I2-27904984237      10/05/2022    10/05/2022   INFORMACION   \n",
       "1     30519045  A2-28369696133      22/07/2022    22/07/2022     ACTUACION   \n",
       "2     27326806  I2-26572476346      05/10/2021    05/10/2021   INFORMACION   \n",
       "3     27041555  A2-26412378319      04/09/2021    04/09/2021     ACTUACION   \n",
       "4     29230060  I2-27681001055      04/04/2022    04/04/2022   INFORMACION   \n",
       "\n",
       "                 DES_PROCESO                               DES_TIPO_SR  \\\n",
       "0                      Cobro        Información general sobre el cobro   \n",
       "1  Mantenimiento de Clientes            Modificación datos del titular   \n",
       "2                Facturación  Información general sobre la facturación   \n",
       "3  Contratación del Servicio         Cambio de producto/tarifa/mercado   \n",
       "4                Facturación  Información general sobre la facturación   \n",
       "\n",
       "                                     DES_COMENTARIOS  ID_SATISFACCION  \\\n",
       "0  Pues se podria haber resuelto mucho antes, si ...               10   \n",
       "1  La operadora ha estado perfecta. El problema, ...               10   \n",
       "2  Pérdida de tiempo. Es imposible hablar con nad...                0   \n",
       "3                       Si ha sido positiva y rápida               10   \n",
       "4  Pues no los recomendaría porque las facturas m...                0   \n",
       "\n",
       "   ID_RECOMENDACION SENTIMENT  \n",
       "0                 7  NEGATIVE  \n",
       "1                10     MIXED  \n",
       "2                 0  NEGATIVE  \n",
       "3                10  POSITIVE  \n",
       "4                 0     MIXED  "
      ]
     },
     "execution_count": 80,
     "metadata": {},
     "output_type": "execute_result"
    }
   ],
   "source": [
    "df_original.head()"
   ]
  },
  {
   "cell_type": "code",
   "execution_count": null,
   "id": "2ed56b5f",
   "metadata": {
    "id": "2ed56b5f"
   },
   "outputs": [],
   "source": [
    "# separamos df y vectorizamos:\n",
    "X_train, X_test, y_train, y_test = train_test_split(df_original.drop(columns='SENTIMENT'), df_original.SENTIMENT, test_size=0.2, random_state=42)\n",
    "\n",
    "vectorizer2 = TfidfVectorizer(min_df=0.001, tokenizer=None)\n",
    "\n",
    "vector_train = vectorizer2.fit_transform(X_train['DES_COMENTARIOS'])\n",
    "\n",
    "vector_test = vectorizer2.transform(X_test['DES_COMENTARIOS'])"
   ]
  },
  {
   "cell_type": "code",
   "execution_count": null,
   "id": "5f4ef408",
   "metadata": {
    "id": "5f4ef408",
    "outputId": "488cde70-4b3c-4b5a-fb7c-c7a0ad776764"
   },
   "outputs": [
    {
     "name": "stdout",
     "output_type": "stream",
     "text": [
      "              precision    recall  f1-score   support\n",
      "\n",
      "       MIXED       0.65      0.23      0.34      8196\n",
      "    NEGATIVE       0.68      0.90      0.77     22838\n",
      "     NEUTRAL       0.64      0.50      0.56      9000\n",
      "    POSITIVE       0.84      0.84      0.84     24387\n",
      "\n",
      "    accuracy                           0.73     64421\n",
      "   macro avg       0.70      0.62      0.63     64421\n",
      "weighted avg       0.73      0.73      0.71     64421\n",
      "\n",
      "2109.1191277503967\n"
     ]
    }
   ],
   "source": [
    "# Entrenamos RF sólo con el texto original: vemos que apenas hay diferencias en ajuste, pero sí en tiempo (más largo)\n",
    "tic = time.time()\n",
    "rf_model_original = RandomForestClassifier(random_state=42)\n",
    "rf_model_original.fit(vector_train, y_train)\n",
    "\n",
    "# Make predictions on the test dataset\n",
    "y_pred = rf_model_original.predict(vector_test)\n",
    "\n",
    "print(classification_report(y_test, y_pred))\n",
    "toc = time.time()\n",
    "\n",
    "time_RF_model = (toc - tic)\n",
    "print(time_RF_model)"
   ]
  },
  {
   "cell_type": "markdown",
   "id": "a35db8bb",
   "metadata": {
    "id": "a35db8bb"
   },
   "source": [
    "###  **Small BERT Model**"
   ]
  },
  {
   "cell_type": "markdown",
   "id": "sOQe9Qc4C6tR",
   "metadata": {
    "id": "sOQe9Qc4C6tR"
   },
   "source": [
    "In this section, a pre-trained BERT language model was used for sentiment classification:"
   ]
  },
  {
   "cell_type": "markdown",
   "id": "ylKTf_uqC-3R",
   "metadata": {
    "id": "ylKTf_uqC-3R"
   },
   "source": [
    "- A simplified BERT model was selected, and additional layers were added for fine-tuning it specifically for the sentiment classification task. The fine-tuning process involves training the BERT model to understand and classify customer comments into relevant sentiment categories—positive, negative, mixed, or neutral. Utilizing BERT in this project represents a cutting-edge approach to achieving precise and sophisticated sentiment classification.\n"
   ]
  },
  {
   "cell_type": "code",
   "execution_count": null,
   "id": "4f6279f5",
   "metadata": {
    "id": "4f6279f5"
   },
   "outputs": [],
   "source": [
    "# utilizamos el modelo más simple de los BERT que aparecen por defecto en el development hub de tensorflow\n",
    "bert_preprocess = \"https://tfhub.dev/tensorflow/bert_en_uncased_preprocess/3\"\n",
    "bert_encoder = \"https://tfhub.dev/tensorflow/small_bert/bert_en_uncased_L-2_H-128_A-2/2\"\n",
    "\n",
    "preprocessing_layer = hub.KerasLayer(bert_preprocess)\n",
    "encoder = hub.KerasLayer(bert_encoder, trainable=True)"
   ]
  },
  {
   "cell_type": "code",
   "execution_count": null,
   "id": "651db150",
   "metadata": {
    "id": "651db150"
   },
   "outputs": [],
   "source": [
    "#volvemos a definimos train-val-test,  únicamente con los comentarios\n",
    "train_texts, test_texts, train_labels, test_labels = train_test_split(df['comments_cleaned'], df['SENTIMENT'], test_size=0.2, random_state=42)\n",
    "\n",
    "train_texts, val_texts, train_labels, val_labels = train_test_split(train_texts, train_labels, test_size=0.2, random_state=42)"
   ]
  },
  {
   "cell_type": "code",
   "execution_count": null,
   "id": "64c9fe52",
   "metadata": {
    "id": "64c9fe52"
   },
   "outputs": [
    {
     "name": "stdout",
     "output_type": "stream",
     "text": [
      "Model: \"model_2\"\n",
      "__________________________________________________________________________________________________\n",
      " Layer (type)                   Output Shape         Param #     Connected to                     \n",
      "==================================================================================================\n",
      " text (InputLayer)              [(None,)]            0           []                               \n",
      "                                                                                                  \n",
      " keras_layer (KerasLayer)       {'input_word_ids':   0           ['text[0][0]']                   \n",
      "                                (None, 128),                                                      \n",
      "                                 'input_type_ids':                                                \n",
      "                                (None, 128),                                                      \n",
      "                                 'input_mask': (Non                                               \n",
      "                                e, 128)}                                                          \n",
      "                                                                                                  \n",
      " keras_layer_1 (KerasLayer)     {'sequence_output':  4385921     ['keras_layer[2][0]',            \n",
      "                                 (None, 128, 128),                'keras_layer[2][1]',            \n",
      "                                 'encoder_outputs':               'keras_layer[2][2]']            \n",
      "                                 [(None, 128, 128),                                               \n",
      "                                 (None, 128, 128)],                                               \n",
      "                                 'pooled_output': (                                               \n",
      "                                None, 128),                                                       \n",
      "                                 'default': (None,                                                \n",
      "                                128)}                                                             \n",
      "                                                                                                  \n",
      " dense_4 (Dense)                (None, 128)          16512       ['keras_layer_1[2][3]']          \n",
      "                                                                                                  \n",
      " dropout_2 (Dropout)            (None, 128)          0           ['dense_4[0][0]']                \n",
      "                                                                                                  \n",
      " dense_5 (Dense)                (None, 4)            516         ['dropout_2[0][0]']              \n",
      "                                                                                                  \n",
      "==================================================================================================\n",
      "Total params: 4,402,949\n",
      "Trainable params: 4,402,948\n",
      "Non-trainable params: 1\n",
      "__________________________________________________________________________________________________\n"
     ]
    }
   ],
   "source": [
    "# definimos el modelo:\n",
    "text_input = tf.keras.layers.Input(shape=(), dtype=tf.string, name='text')\n",
    "preprocessed_text = preprocessing_layer(text_input)\n",
    "outputs = encoder(preprocessed_text)\n",
    "\n",
    "# Use the pooled_output from BERT for classification tasks\n",
    "bert_output = outputs['pooled_output']\n",
    "\n",
    "# Add additional layers for further fine-tuning if desired\n",
    "x = tf.keras.layers.Dense(128, activation='relu')(bert_output)\n",
    "x = tf.keras.layers.Dropout(0.2)(x)\n",
    "final_output = tf.keras.layers.Dense(4, activation='softmax')(x)\n",
    "\n",
    "model = tf.keras.Model(text_input, final_output)\n",
    "\n",
    "model.compile(optimizer=tf.keras.optimizers.Adam(learning_rate=2e-5),\n",
    "              loss='categorical_crossentropy',\n",
    "              metrics=['accuracy'])\n",
    "\n",
    "model.summary()"
   ]
  },
  {
   "cell_type": "code",
   "execution_count": null,
   "id": "e6d317ce",
   "metadata": {
    "id": "e6d317ce"
   },
   "outputs": [
    {
     "name": "stdout",
     "output_type": "stream",
     "text": [
      "Epoch 1/3\n",
      "6418/6418 [==============================] - 2283s 355ms/step - loss: 0.9595 - accuracy: 0.6188 - val_loss: 0.7165 - val_accuracy: 0.7108\n",
      "Epoch 2/3\n",
      "6418/6418 [==============================] - 2285s 356ms/step - loss: 0.8005 - accuracy: 0.6903 - val_loss: 0.6819 - val_accuracy: 0.7235\n",
      "Epoch 3/3\n",
      "6418/6418 [==============================] - 2300s 358ms/step - loss: 0.7586 - accuracy: 0.7040 - val_loss: 0.6515 - val_accuracy: 0.7368\n"
     ]
    }
   ],
   "source": [
    "# Entrenamos el modelo, vemos que apenas hay diferencias en la precisión:\n",
    "tic = time.time()\n",
    "\n",
    "history = model.fit(train_texts, train_labels,\n",
    "                    epochs=3,\n",
    "                    batch_size=32,\n",
    "                    validation_data=(test_texts, test_labels),\n",
    "                    class_weight=class_weights,\n",
    "                    verbose=1)\n",
    "toc = time.time()\n",
    "\n",
    "time_BERT_model = (toc - tic)\n",
    "print(time_BERT_model)"
   ]
  },
  {
   "cell_type": "code",
   "execution_count": null,
   "id": "f35beaa9",
   "metadata": {
    "id": "f35beaa9"
   },
   "outputs": [
    {
     "name": "stdout",
     "output_type": "stream",
     "text": [
      "2006/2006 [==============================] - 209s 104ms/step\n",
      "2006/2006 [==============================] - 196s 98ms/step - loss: 0.6536 - accuracy: 0.7368\n",
      "F1 Score: 0.6909145881750082\n",
      "Test Loss, Test Accuracy: [0.6535952091217041, 0.7367699146270752]\n"
     ]
    }
   ],
   "source": [
    "# lo evaluamos:\n",
    "predictions = model.predict(test_texts)\n",
    "predicted_labels = [np.argmax(x) for x in predictions]\n",
    "true_labels = [np.argmax(x) for x in test_labels]\n",
    "f1 = f1_score(true_labels, predicted_labels, average='macro')\n",
    "print(f\"F1 Score: {f1}\")\n",
    "print(\"Test Loss, Test Accuracy:\", results)\n",
    "\n",
    "plot_train_val(history, 0, 1)"
   ]
  },
  {
   "cell_type": "code",
   "execution_count": null,
   "id": "6b739a56",
   "metadata": {
    "id": "6b739a56"
   },
   "outputs": [],
   "source": [
    "# guardamos el modelo:\n",
    "model.save(\"model_Simple_BERT.h5\")"
   ]
  },
  {
   "cell_type": "markdown",
   "id": "1955f430",
   "metadata": {
    "id": "1955f430"
   },
   "source": [
    "### **Comparison of Predictions::**"
   ]
  },
  {
   "cell_type": "markdown",
   "id": "3f68e131",
   "metadata": {
    "id": "3f68e131"
   },
   "source": [
    "#### **Model RF**"
   ]
  },
  {
   "cell_type": "code",
   "execution_count": null,
   "id": "50068ea5",
   "metadata": {
    "id": "50068ea5"
   },
   "outputs": [],
   "source": [
    "# cargamos primero los modelos\n",
    "with gzip.open(f'{direction}RF_model_clean.pkl.gz', 'rb') as model_file:\n",
    "    rf_model = pickle.load(model_file)\n",
    "\n",
    "model = tf.keras.models.load_model(f'{direction}model_Simple_BERT.h5', custom_objects={'KerasLayer': hub.KerasLayer})"
   ]
  },
  {
   "cell_type": "code",
   "execution_count": null,
   "id": "b976ec4d",
   "metadata": {
    "id": "b976ec4d"
   },
   "outputs": [
    {
     "name": "stdout",
     "output_type": "stream",
     "text": [
      "El servicio es normal, ni bien ni mal\n",
      "NEGATIVE\n"
     ]
    }
   ],
   "source": [
    "try:\n",
    "    text_input = clean_comments(input(), excl=False)\n",
    "    text_input = vectorizer.transform([text_input])\n",
    "    predicted_label = rf_model.predict(text_input)\n",
    "    print(pred_dict[predicted_label[0]])\n",
    "except:\n",
    "    print(\"Please, enter a text input\")\n"
   ]
  },
  {
   "cell_type": "markdown",
   "id": "5c85cf11",
   "metadata": {
    "id": "5c85cf11"
   },
   "source": [
    "####  **Small BERT model**"
   ]
  },
  {
   "cell_type": "code",
   "execution_count": null,
   "id": "29fdfd1e",
   "metadata": {
    "id": "29fdfd1e"
   },
   "outputs": [
    {
     "name": "stdout",
     "output_type": "stream",
     "text": [
      "El servicio es normal, ni bien ni mal\n",
      "1/1 [==============================] - 0s 350ms/step\n",
      "MIXED\n"
     ]
    }
   ],
   "source": [
    "try:\n",
    "    predictions = model.predict([clean_comments(input(), excl=False)])\n",
    "    predicted_label = np.argmax(predictions, axis=1)\n",
    "    print(pred_dict[predicted_label[0]])\n",
    "except:\n",
    "    print(\"Please, enter a text input\")"
   ]
  },
  {
   "cell_type": "markdown",
   "id": "c8ccfac9",
   "metadata": {
    "id": "c8ccfac9"
   },
   "source": [
    "####  **Save the prediction column in the test set.**"
   ]
  },
  {
   "cell_type": "code",
   "execution_count": null,
   "id": "2ec788e0",
   "metadata": {
    "id": "2ec788e0"
   },
   "outputs": [],
   "source": [
    "# modelo BERT ( no es la solución más eficiente... a menos que tengas 16GB de RAM)\n",
    "indices = y_test.index.tolist()\n",
    "filtered_df = df1.loc[indices]\n",
    "filtered_df\n",
    "\n",
    "tqdm.pandas(desc=\"Evolución\")\n",
    "\n",
    "def BERT_predict(x):\n",
    "    predictions = model.predict([x], verbose=0)\n",
    "    predicted_label = np.argmax(predictions, axis=1)\n",
    "    predicted_label = pred_dict[predicted_label[0]]\n",
    "    return predicted_label\n",
    "\n",
    "#df1['SBERT_predictions'] = df1['comments_cleaned'].progress_apply(lambda x: BERT_predict(x))\n",
    "\n",
    "batch_size = 1000  # Adjust based on your available memory\n",
    "predictions = []\n",
    "\n",
    "for i in tqdm(range(0, len(filtered_df), batch_size)):\n",
    "    batch = filtered_df['comments_cleaned'].iloc[i:i+batch_size].tolist()\n",
    "    batch_predictions = [BERT_predict(x) for x in batch]\n",
    "    predictions.extend(batch_predictions)\n",
    "\n",
    "filtered_df['SBERT_predictions'] = predictions"
   ]
  },
  {
   "cell_type": "code",
   "execution_count": null,
   "id": "7f517a88",
   "metadata": {
    "id": "7f517a88"
   },
   "outputs": [],
   "source": [
    "# RF Model\n",
    "vectors = vectorizer.transform(filtered_df['comments_cleaned'])\n",
    "\n",
    "predicted_labels = rf_model.predict(vectors)\n",
    "\n",
    "filtered_df['RF_predictions'] = [pred_dict[label] for label in predicted_labels]"
   ]
  },
  {
   "cell_type": "code",
   "execution_count": null,
   "id": "7e7924d6",
   "metadata": {
    "id": "7e7924d6"
   },
   "outputs": [],
   "source": [
    "filtered_df['Match_BERT'] = filtered_df['SENTIMENT'] == filtered_df['SBERT_predictions']\n",
    "filtered_df['Match_RF'] = filtered_df['SENTIMENT'] == filtered_df['RF_predictions']\n",
    "filtered_df['Match_Models'] = filtered_df['SBERT_predictions'] == filtered_df['RF_predictions']\n",
    "\n",
    "print(f\"\"\"\n",
    "% Matching SBERT / Test: {(filtered_df['Match_BERT'] == True).sum()*100/len(filtered_df)},\n",
    "% Matching RF / Test: {(filtered_df['Match_RF'] == True).sum()*100/len(filtered_df)},\n",
    "% Similarity Models: {(filtered_df['Match_Models'] == True).sum()*100/len(filtered_df)}\"\"\"\n",
    ")"
   ]
  },
  {
   "cell_type": "code",
   "execution_count": null,
   "id": "33d5b4a2",
   "metadata": {
    "id": "33d5b4a2"
   },
   "outputs": [],
   "source": [
    "filtered_df.to_parquet(f\"{direction}tfm_classification_test.parquet\")"
   ]
  },
  {
   "cell_type": "markdown",
   "id": "4XNOTAozm42U",
   "metadata": {
    "id": "4XNOTAozm42U"
   },
   "source": [
    "After making predictions, understanding their performance and computational cost is crucial. The three models show fairly similar accuracy results. Despite the accuracy similarities, significant differences exist in computational cost, notably the \"small Bert\" model taking 2 hours, significantly longer than the 30 minutes of the Random Forest (RF) models. On the other hand, model weights vary significantly, with RF models weighing almost four times more than the small Bert model.\n"
   ]
  }
 ],
 "metadata": {
  "colab": {
   "provenance": []
  },
  "kernelspec": {
   "display_name": "Python 3 (ipykernel)",
   "language": "python",
   "name": "python3"
  },
  "language_info": {
   "codemirror_mode": {
    "name": "ipython",
    "version": 3
   },
   "file_extension": ".py",
   "mimetype": "text/x-python",
   "name": "python",
   "nbconvert_exporter": "python",
   "pygments_lexer": "ipython3",
   "version": "3.9.13"
  }
 },
 "nbformat": 4,
 "nbformat_minor": 5
}
